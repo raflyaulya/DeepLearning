{
  "nbformat": 4,
  "nbformat_minor": 0,
  "metadata": {
    "colab": {
      "provenance": [],
      "collapsed_sections": [
        "rFUACM4TD3tj"
      ],
      "toc_visible": true
    },
    "kernelspec": {
      "name": "python3",
      "display_name": "Python 3"
    },
    "language_info": {
      "name": "python"
    }
  },
  "cells": [
    {
      "cell_type": "markdown",
      "source": [
        "#Задание 5. Анализ текстовых данных средствами BERT и LSTM (Assessment 5. Text Data Analysis with BERT and LSTM)"
      ],
      "metadata": {
        "id": "DoRZrnUsLe09"
      }
    },
    {
      "cell_type": "markdown",
      "source": [
        "#Анализ текстовых данных средствами BERT и стека LSTM\n",
        "\n",
        "**Цель работы** – получить навыки обучения и использования архитектур BERT, стека LSTM и двунаправленной LSTM для задач классификации текстовых данных.\n",
        "\n",
        "**Задачи** – Обучить нейросетевые модели BERT, стека LSTM, двунаправленную LSTM, предсказывающие авторство текстов по фрагменту текстов.\n",
        "\n",
        "\n",
        "https://docs.google.com/spreadsheets/d/1dyB9C8XX3SNYw7e6jZvd5bXCDXIEKHMunrcKmhZn7kE/edit?usp=sharing\n",
        "\n",
        "https://colab.research.google.com/drive/1h-eBBAVnOu11_OsU7TjtIsyz0MCZbfmQ?usp=sharing\n",
        "\n"
      ],
      "metadata": {
        "id": "CjIWe5YRHc69"
      }
    },
    {
      "cell_type": "markdown",
      "source": [
        "#Импорт библиотек\n"
      ],
      "metadata": {
        "id": "tn6S4mWM28f-"
      }
    },
    {
      "cell_type": "code",
      "source": [
        "!pip install transformers"
      ],
      "metadata": {
        "colab": {
          "base_uri": "https://localhost:8080/"
        },
        "id": "bxO078JLsVa6",
        "outputId": "30368518-ea21-4b24-9016-c29998a04ac5"
      },
      "execution_count": 116,
      "outputs": [
        {
          "output_type": "stream",
          "name": "stdout",
          "text": [
            "Requirement already satisfied: transformers in /usr/local/lib/python3.11/dist-packages (4.47.1)\n",
            "Requirement already satisfied: filelock in /usr/local/lib/python3.11/dist-packages (from transformers) (3.17.0)\n",
            "Requirement already satisfied: huggingface-hub<1.0,>=0.24.0 in /usr/local/lib/python3.11/dist-packages (from transformers) (0.27.1)\n",
            "Requirement already satisfied: numpy>=1.17 in /usr/local/lib/python3.11/dist-packages (from transformers) (1.26.4)\n",
            "Requirement already satisfied: packaging>=20.0 in /usr/local/lib/python3.11/dist-packages (from transformers) (24.2)\n",
            "Requirement already satisfied: pyyaml>=5.1 in /usr/local/lib/python3.11/dist-packages (from transformers) (6.0.2)\n",
            "Requirement already satisfied: regex!=2019.12.17 in /usr/local/lib/python3.11/dist-packages (from transformers) (2024.11.6)\n",
            "Requirement already satisfied: requests in /usr/local/lib/python3.11/dist-packages (from transformers) (2.32.3)\n",
            "Requirement already satisfied: tokenizers<0.22,>=0.21 in /usr/local/lib/python3.11/dist-packages (from transformers) (0.21.0)\n",
            "Requirement already satisfied: safetensors>=0.4.1 in /usr/local/lib/python3.11/dist-packages (from transformers) (0.5.2)\n",
            "Requirement already satisfied: tqdm>=4.27 in /usr/local/lib/python3.11/dist-packages (from transformers) (4.67.1)\n",
            "Requirement already satisfied: fsspec>=2023.5.0 in /usr/local/lib/python3.11/dist-packages (from huggingface-hub<1.0,>=0.24.0->transformers) (2024.10.0)\n",
            "Requirement already satisfied: typing-extensions>=3.7.4.3 in /usr/local/lib/python3.11/dist-packages (from huggingface-hub<1.0,>=0.24.0->transformers) (4.12.2)\n",
            "Requirement already satisfied: charset-normalizer<4,>=2 in /usr/local/lib/python3.11/dist-packages (from requests->transformers) (3.4.1)\n",
            "Requirement already satisfied: idna<4,>=2.5 in /usr/local/lib/python3.11/dist-packages (from requests->transformers) (3.10)\n",
            "Requirement already satisfied: urllib3<3,>=1.21.1 in /usr/local/lib/python3.11/dist-packages (from requests->transformers) (2.3.0)\n",
            "Requirement already satisfied: certifi>=2017.4.17 in /usr/local/lib/python3.11/dist-packages (from requests->transformers) (2024.12.14)\n"
          ]
        }
      ]
    },
    {
      "cell_type": "code",
      "execution_count": 117,
      "metadata": {
        "id": "7RKRynPeiUFS"
      },
      "outputs": [],
      "source": [
        "import pandas as pd\n",
        "import os\n",
        "import csv\n",
        "from sklearn.model_selection import train_test_split\n",
        "import tensorflow as tf\n",
        "from tensorflow.keras.models import Sequential\n",
        "from tensorflow.keras.layers import LSTM, Dense, Embedding, Dropout\n",
        "from tensorflow.keras.optimizers import Adam\n",
        "from transformers import BertTokenizer, TFBertModel\n",
        "from sklearn.preprocessing import LabelEncoder\n",
        "\n",
        "from sklearn.metrics import classification_report, confusion_matrix\n",
        "import matplotlib.pyplot as plt\n",
        "import seaborn as sns\n",
        "import numpy as np"
      ]
    },
    {
      "cell_type": "markdown",
      "source": [
        "# Data Collection & Preparation"
      ],
      "metadata": {
        "id": "H294MNknjxS8"
      }
    },
    {
      "cell_type": "markdown",
      "source": [
        "## Data source"
      ],
      "metadata": {
        "id": "rFUACM4TD3tj"
      }
    },
    {
      "cell_type": "code",
      "source": [
        "from google.colab import drive\n",
        "drive.mount('/content/drive')\n",
        "\n",
        "import pandas as pd\n",
        "\n",
        "# Ganti dengan path file CSV Anda\n",
        "file_path = '/content/drive/My Drive/russian_poetry_data.csv'\n",
        "\n",
        "df = pd.read_csv(file_path)\n"
      ],
      "metadata": {
        "id": "1HEqODmfEE6n",
        "colab": {
          "base_uri": "https://localhost:8080/"
        },
        "outputId": "fdb48d57-a833-4814-fb1f-0663d82c339b"
      },
      "execution_count": 118,
      "outputs": [
        {
          "output_type": "stream",
          "name": "stdout",
          "text": [
            "Drive already mounted at /content/drive; to attempt to forcibly remount, call drive.mount(\"/content/drive\", force_remount=True).\n"
          ]
        }
      ]
    },
    {
      "cell_type": "code",
      "source": [
        "# Tampilkan 5 baris pertama DataFrame\n",
        "# print(df.head())\n",
        "df"
      ],
      "metadata": {
        "colab": {
          "base_uri": "https://localhost:8080/",
          "height": 423
        },
        "id": "WwikaystG1a4",
        "outputId": "9dcdc84b-7052-4d31-f266-f5fb60c9098b"
      },
      "execution_count": 119,
      "outputs": [
        {
          "output_type": "execute_result",
          "data": {
            "text/plain": [
              "             author            title  \\\n",
              "0    Лермонтов М.Ю.  А. О. Смирновой   \n",
              "1    Лермонтов М.Ю.            Ангел   \n",
              "2    Лермонтов М.Ю.           К Нине   \n",
              "3    Лермонтов М.Ю.          Баллада   \n",
              "4    Лермонтов М.Ю.            Парус   \n",
              "..              ...              ...   \n",
              "107     Тютчев Ф.И.     Снежные горы   \n",
              "108     Тютчев Ф.И.            К. Б.   \n",
              "109     Тютчев Ф.И.            empty   \n",
              "110     Тютчев Ф.И.            empty   \n",
              "111     Тютчев Ф.И.            empty   \n",
              "\n",
              "                                              fragment  \n",
              "0    В простосердечии невежды\\nКороче знать вас я ж...  \n",
              "1    По небу полуночи ангел летел\\r\\nИ тихую песню ...  \n",
              "2    Ах! сокрылась в мрак ненастный\\r\\nСчастья прош...  \n",
              "3    Куда так проворно, жидовка младая?\\r\\nЧас утра...  \n",
              "4    Белеет парус одинокой\\nВ тумане моря голубом!....  \n",
              "..                                                 ...  \n",
              "107  Уже полдневная пора\\r\\nПалит отвесными лучами,...  \n",
              "108  Я встретил вас — и всё былое\\r\\nВ отжившем сер...  \n",
              "109  Певучесть есть в морских волнах,\\r\\nГармония в...  \n",
              "110  Тихой ночью, поздним летом,\\r\\nКа́к на небе зв...  \n",
              "111  Я помню время золотое,\\r\\nЯ помню сердцу милый...  \n",
              "\n",
              "[112 rows x 3 columns]"
            ],
            "text/html": [
              "\n",
              "  <div id=\"df-32c74365-4b7f-4075-baeb-b8e4ec8ca878\" class=\"colab-df-container\">\n",
              "    <div>\n",
              "<style scoped>\n",
              "    .dataframe tbody tr th:only-of-type {\n",
              "        vertical-align: middle;\n",
              "    }\n",
              "\n",
              "    .dataframe tbody tr th {\n",
              "        vertical-align: top;\n",
              "    }\n",
              "\n",
              "    .dataframe thead th {\n",
              "        text-align: right;\n",
              "    }\n",
              "</style>\n",
              "<table border=\"1\" class=\"dataframe\">\n",
              "  <thead>\n",
              "    <tr style=\"text-align: right;\">\n",
              "      <th></th>\n",
              "      <th>author</th>\n",
              "      <th>title</th>\n",
              "      <th>fragment</th>\n",
              "    </tr>\n",
              "  </thead>\n",
              "  <tbody>\n",
              "    <tr>\n",
              "      <th>0</th>\n",
              "      <td>Лермонтов М.Ю.</td>\n",
              "      <td>А. О. Смирновой</td>\n",
              "      <td>В простосердечии невежды\\nКороче знать вас я ж...</td>\n",
              "    </tr>\n",
              "    <tr>\n",
              "      <th>1</th>\n",
              "      <td>Лермонтов М.Ю.</td>\n",
              "      <td>Ангел</td>\n",
              "      <td>По небу полуночи ангел летел\\r\\nИ тихую песню ...</td>\n",
              "    </tr>\n",
              "    <tr>\n",
              "      <th>2</th>\n",
              "      <td>Лермонтов М.Ю.</td>\n",
              "      <td>К Нине</td>\n",
              "      <td>Ах! сокрылась в мрак ненастный\\r\\nСчастья прош...</td>\n",
              "    </tr>\n",
              "    <tr>\n",
              "      <th>3</th>\n",
              "      <td>Лермонтов М.Ю.</td>\n",
              "      <td>Баллада</td>\n",
              "      <td>Куда так проворно, жидовка младая?\\r\\nЧас утра...</td>\n",
              "    </tr>\n",
              "    <tr>\n",
              "      <th>4</th>\n",
              "      <td>Лермонтов М.Ю.</td>\n",
              "      <td>Парус</td>\n",
              "      <td>Белеет парус одинокой\\nВ тумане моря голубом!....</td>\n",
              "    </tr>\n",
              "    <tr>\n",
              "      <th>...</th>\n",
              "      <td>...</td>\n",
              "      <td>...</td>\n",
              "      <td>...</td>\n",
              "    </tr>\n",
              "    <tr>\n",
              "      <th>107</th>\n",
              "      <td>Тютчев Ф.И.</td>\n",
              "      <td>Снежные горы</td>\n",
              "      <td>Уже полдневная пора\\r\\nПалит отвесными лучами,...</td>\n",
              "    </tr>\n",
              "    <tr>\n",
              "      <th>108</th>\n",
              "      <td>Тютчев Ф.И.</td>\n",
              "      <td>К. Б.</td>\n",
              "      <td>Я встретил вас — и всё былое\\r\\nВ отжившем сер...</td>\n",
              "    </tr>\n",
              "    <tr>\n",
              "      <th>109</th>\n",
              "      <td>Тютчев Ф.И.</td>\n",
              "      <td>empty</td>\n",
              "      <td>Певучесть есть в морских волнах,\\r\\nГармония в...</td>\n",
              "    </tr>\n",
              "    <tr>\n",
              "      <th>110</th>\n",
              "      <td>Тютчев Ф.И.</td>\n",
              "      <td>empty</td>\n",
              "      <td>Тихой ночью, поздним летом,\\r\\nКа́к на небе зв...</td>\n",
              "    </tr>\n",
              "    <tr>\n",
              "      <th>111</th>\n",
              "      <td>Тютчев Ф.И.</td>\n",
              "      <td>empty</td>\n",
              "      <td>Я помню время золотое,\\r\\nЯ помню сердцу милый...</td>\n",
              "    </tr>\n",
              "  </tbody>\n",
              "</table>\n",
              "<p>112 rows × 3 columns</p>\n",
              "</div>\n",
              "    <div class=\"colab-df-buttons\">\n",
              "\n",
              "  <div class=\"colab-df-container\">\n",
              "    <button class=\"colab-df-convert\" onclick=\"convertToInteractive('df-32c74365-4b7f-4075-baeb-b8e4ec8ca878')\"\n",
              "            title=\"Convert this dataframe to an interactive table.\"\n",
              "            style=\"display:none;\">\n",
              "\n",
              "  <svg xmlns=\"http://www.w3.org/2000/svg\" height=\"24px\" viewBox=\"0 -960 960 960\">\n",
              "    <path d=\"M120-120v-720h720v720H120Zm60-500h600v-160H180v160Zm220 220h160v-160H400v160Zm0 220h160v-160H400v160ZM180-400h160v-160H180v160Zm440 0h160v-160H620v160ZM180-180h160v-160H180v160Zm440 0h160v-160H620v160Z\"/>\n",
              "  </svg>\n",
              "    </button>\n",
              "\n",
              "  <style>\n",
              "    .colab-df-container {\n",
              "      display:flex;\n",
              "      gap: 12px;\n",
              "    }\n",
              "\n",
              "    .colab-df-convert {\n",
              "      background-color: #E8F0FE;\n",
              "      border: none;\n",
              "      border-radius: 50%;\n",
              "      cursor: pointer;\n",
              "      display: none;\n",
              "      fill: #1967D2;\n",
              "      height: 32px;\n",
              "      padding: 0 0 0 0;\n",
              "      width: 32px;\n",
              "    }\n",
              "\n",
              "    .colab-df-convert:hover {\n",
              "      background-color: #E2EBFA;\n",
              "      box-shadow: 0px 1px 2px rgba(60, 64, 67, 0.3), 0px 1px 3px 1px rgba(60, 64, 67, 0.15);\n",
              "      fill: #174EA6;\n",
              "    }\n",
              "\n",
              "    .colab-df-buttons div {\n",
              "      margin-bottom: 4px;\n",
              "    }\n",
              "\n",
              "    [theme=dark] .colab-df-convert {\n",
              "      background-color: #3B4455;\n",
              "      fill: #D2E3FC;\n",
              "    }\n",
              "\n",
              "    [theme=dark] .colab-df-convert:hover {\n",
              "      background-color: #434B5C;\n",
              "      box-shadow: 0px 1px 3px 1px rgba(0, 0, 0, 0.15);\n",
              "      filter: drop-shadow(0px 1px 2px rgba(0, 0, 0, 0.3));\n",
              "      fill: #FFFFFF;\n",
              "    }\n",
              "  </style>\n",
              "\n",
              "    <script>\n",
              "      const buttonEl =\n",
              "        document.querySelector('#df-32c74365-4b7f-4075-baeb-b8e4ec8ca878 button.colab-df-convert');\n",
              "      buttonEl.style.display =\n",
              "        google.colab.kernel.accessAllowed ? 'block' : 'none';\n",
              "\n",
              "      async function convertToInteractive(key) {\n",
              "        const element = document.querySelector('#df-32c74365-4b7f-4075-baeb-b8e4ec8ca878');\n",
              "        const dataTable =\n",
              "          await google.colab.kernel.invokeFunction('convertToInteractive',\n",
              "                                                    [key], {});\n",
              "        if (!dataTable) return;\n",
              "\n",
              "        const docLinkHtml = 'Like what you see? Visit the ' +\n",
              "          '<a target=\"_blank\" href=https://colab.research.google.com/notebooks/data_table.ipynb>data table notebook</a>'\n",
              "          + ' to learn more about interactive tables.';\n",
              "        element.innerHTML = '';\n",
              "        dataTable['output_type'] = 'display_data';\n",
              "        await google.colab.output.renderOutput(dataTable, element);\n",
              "        const docLink = document.createElement('div');\n",
              "        docLink.innerHTML = docLinkHtml;\n",
              "        element.appendChild(docLink);\n",
              "      }\n",
              "    </script>\n",
              "  </div>\n",
              "\n",
              "\n",
              "<div id=\"df-fb436988-2234-4150-aa12-3e061004666a\">\n",
              "  <button class=\"colab-df-quickchart\" onclick=\"quickchart('df-fb436988-2234-4150-aa12-3e061004666a')\"\n",
              "            title=\"Suggest charts\"\n",
              "            style=\"display:none;\">\n",
              "\n",
              "<svg xmlns=\"http://www.w3.org/2000/svg\" height=\"24px\"viewBox=\"0 0 24 24\"\n",
              "     width=\"24px\">\n",
              "    <g>\n",
              "        <path d=\"M19 3H5c-1.1 0-2 .9-2 2v14c0 1.1.9 2 2 2h14c1.1 0 2-.9 2-2V5c0-1.1-.9-2-2-2zM9 17H7v-7h2v7zm4 0h-2V7h2v10zm4 0h-2v-4h2v4z\"/>\n",
              "    </g>\n",
              "</svg>\n",
              "  </button>\n",
              "\n",
              "<style>\n",
              "  .colab-df-quickchart {\n",
              "      --bg-color: #E8F0FE;\n",
              "      --fill-color: #1967D2;\n",
              "      --hover-bg-color: #E2EBFA;\n",
              "      --hover-fill-color: #174EA6;\n",
              "      --disabled-fill-color: #AAA;\n",
              "      --disabled-bg-color: #DDD;\n",
              "  }\n",
              "\n",
              "  [theme=dark] .colab-df-quickchart {\n",
              "      --bg-color: #3B4455;\n",
              "      --fill-color: #D2E3FC;\n",
              "      --hover-bg-color: #434B5C;\n",
              "      --hover-fill-color: #FFFFFF;\n",
              "      --disabled-bg-color: #3B4455;\n",
              "      --disabled-fill-color: #666;\n",
              "  }\n",
              "\n",
              "  .colab-df-quickchart {\n",
              "    background-color: var(--bg-color);\n",
              "    border: none;\n",
              "    border-radius: 50%;\n",
              "    cursor: pointer;\n",
              "    display: none;\n",
              "    fill: var(--fill-color);\n",
              "    height: 32px;\n",
              "    padding: 0;\n",
              "    width: 32px;\n",
              "  }\n",
              "\n",
              "  .colab-df-quickchart:hover {\n",
              "    background-color: var(--hover-bg-color);\n",
              "    box-shadow: 0 1px 2px rgba(60, 64, 67, 0.3), 0 1px 3px 1px rgba(60, 64, 67, 0.15);\n",
              "    fill: var(--button-hover-fill-color);\n",
              "  }\n",
              "\n",
              "  .colab-df-quickchart-complete:disabled,\n",
              "  .colab-df-quickchart-complete:disabled:hover {\n",
              "    background-color: var(--disabled-bg-color);\n",
              "    fill: var(--disabled-fill-color);\n",
              "    box-shadow: none;\n",
              "  }\n",
              "\n",
              "  .colab-df-spinner {\n",
              "    border: 2px solid var(--fill-color);\n",
              "    border-color: transparent;\n",
              "    border-bottom-color: var(--fill-color);\n",
              "    animation:\n",
              "      spin 1s steps(1) infinite;\n",
              "  }\n",
              "\n",
              "  @keyframes spin {\n",
              "    0% {\n",
              "      border-color: transparent;\n",
              "      border-bottom-color: var(--fill-color);\n",
              "      border-left-color: var(--fill-color);\n",
              "    }\n",
              "    20% {\n",
              "      border-color: transparent;\n",
              "      border-left-color: var(--fill-color);\n",
              "      border-top-color: var(--fill-color);\n",
              "    }\n",
              "    30% {\n",
              "      border-color: transparent;\n",
              "      border-left-color: var(--fill-color);\n",
              "      border-top-color: var(--fill-color);\n",
              "      border-right-color: var(--fill-color);\n",
              "    }\n",
              "    40% {\n",
              "      border-color: transparent;\n",
              "      border-right-color: var(--fill-color);\n",
              "      border-top-color: var(--fill-color);\n",
              "    }\n",
              "    60% {\n",
              "      border-color: transparent;\n",
              "      border-right-color: var(--fill-color);\n",
              "    }\n",
              "    80% {\n",
              "      border-color: transparent;\n",
              "      border-right-color: var(--fill-color);\n",
              "      border-bottom-color: var(--fill-color);\n",
              "    }\n",
              "    90% {\n",
              "      border-color: transparent;\n",
              "      border-bottom-color: var(--fill-color);\n",
              "    }\n",
              "  }\n",
              "</style>\n",
              "\n",
              "  <script>\n",
              "    async function quickchart(key) {\n",
              "      const quickchartButtonEl =\n",
              "        document.querySelector('#' + key + ' button');\n",
              "      quickchartButtonEl.disabled = true;  // To prevent multiple clicks.\n",
              "      quickchartButtonEl.classList.add('colab-df-spinner');\n",
              "      try {\n",
              "        const charts = await google.colab.kernel.invokeFunction(\n",
              "            'suggestCharts', [key], {});\n",
              "      } catch (error) {\n",
              "        console.error('Error during call to suggestCharts:', error);\n",
              "      }\n",
              "      quickchartButtonEl.classList.remove('colab-df-spinner');\n",
              "      quickchartButtonEl.classList.add('colab-df-quickchart-complete');\n",
              "    }\n",
              "    (() => {\n",
              "      let quickchartButtonEl =\n",
              "        document.querySelector('#df-fb436988-2234-4150-aa12-3e061004666a button');\n",
              "      quickchartButtonEl.style.display =\n",
              "        google.colab.kernel.accessAllowed ? 'block' : 'none';\n",
              "    })();\n",
              "  </script>\n",
              "</div>\n",
              "\n",
              "  <div id=\"id_5156b38e-3445-430d-9086-6c1913e70884\">\n",
              "    <style>\n",
              "      .colab-df-generate {\n",
              "        background-color: #E8F0FE;\n",
              "        border: none;\n",
              "        border-radius: 50%;\n",
              "        cursor: pointer;\n",
              "        display: none;\n",
              "        fill: #1967D2;\n",
              "        height: 32px;\n",
              "        padding: 0 0 0 0;\n",
              "        width: 32px;\n",
              "      }\n",
              "\n",
              "      .colab-df-generate:hover {\n",
              "        background-color: #E2EBFA;\n",
              "        box-shadow: 0px 1px 2px rgba(60, 64, 67, 0.3), 0px 1px 3px 1px rgba(60, 64, 67, 0.15);\n",
              "        fill: #174EA6;\n",
              "      }\n",
              "\n",
              "      [theme=dark] .colab-df-generate {\n",
              "        background-color: #3B4455;\n",
              "        fill: #D2E3FC;\n",
              "      }\n",
              "\n",
              "      [theme=dark] .colab-df-generate:hover {\n",
              "        background-color: #434B5C;\n",
              "        box-shadow: 0px 1px 3px 1px rgba(0, 0, 0, 0.15);\n",
              "        filter: drop-shadow(0px 1px 2px rgba(0, 0, 0, 0.3));\n",
              "        fill: #FFFFFF;\n",
              "      }\n",
              "    </style>\n",
              "    <button class=\"colab-df-generate\" onclick=\"generateWithVariable('df')\"\n",
              "            title=\"Generate code using this dataframe.\"\n",
              "            style=\"display:none;\">\n",
              "\n",
              "  <svg xmlns=\"http://www.w3.org/2000/svg\" height=\"24px\"viewBox=\"0 0 24 24\"\n",
              "       width=\"24px\">\n",
              "    <path d=\"M7,19H8.4L18.45,9,17,7.55,7,17.6ZM5,21V16.75L18.45,3.32a2,2,0,0,1,2.83,0l1.4,1.43a1.91,1.91,0,0,1,.58,1.4,1.91,1.91,0,0,1-.58,1.4L9.25,21ZM18.45,9,17,7.55Zm-12,3A5.31,5.31,0,0,0,4.9,8.1,5.31,5.31,0,0,0,1,6.5,5.31,5.31,0,0,0,4.9,4.9,5.31,5.31,0,0,0,6.5,1,5.31,5.31,0,0,0,8.1,4.9,5.31,5.31,0,0,0,12,6.5,5.46,5.46,0,0,0,6.5,12Z\"/>\n",
              "  </svg>\n",
              "    </button>\n",
              "    <script>\n",
              "      (() => {\n",
              "      const buttonEl =\n",
              "        document.querySelector('#id_5156b38e-3445-430d-9086-6c1913e70884 button.colab-df-generate');\n",
              "      buttonEl.style.display =\n",
              "        google.colab.kernel.accessAllowed ? 'block' : 'none';\n",
              "\n",
              "      buttonEl.onclick = () => {\n",
              "        google.colab.notebook.generateWithVariable('df');\n",
              "      }\n",
              "      })();\n",
              "    </script>\n",
              "  </div>\n",
              "\n",
              "    </div>\n",
              "  </div>\n"
            ],
            "application/vnd.google.colaboratory.intrinsic+json": {
              "type": "dataframe",
              "variable_name": "df",
              "summary": "{\n  \"name\": \"df\",\n  \"rows\": 112,\n  \"fields\": [\n    {\n      \"column\": \"author\",\n      \"properties\": {\n        \"dtype\": \"category\",\n        \"num_unique_values\": 4,\n        \"samples\": [\n          \"\\u0415\\u0441\\u0435\\u043d\\u0438\\u043d \\u0421.\\u0410.\",\n          \"\\u0422\\u044e\\u0442\\u0447\\u0435\\u0432 \\u0424.\\u0418.\",\n          \"\\u041b\\u0435\\u0440\\u043c\\u043e\\u043d\\u0442\\u043e\\u0432 \\u041c.\\u042e.\"\n        ],\n        \"semantic_type\": \"\",\n        \"description\": \"\"\n      }\n    },\n    {\n      \"column\": \"title\",\n      \"properties\": {\n        \"dtype\": \"string\",\n        \"num_unique_values\": 107,\n        \"samples\": [\n          \"\\u041c\\u0430\\u0442\\u044c\",\n          \"\\u0420\\u0443\\u0441\\u0441\\u043a\\u0430\\u044f \\u043c\\u0435\\u043b\\u043e\\u0434\\u0438\\u044f\",\n          \"\\u041f\\u0430\\u0440\\u0443\\u0441\"\n        ],\n        \"semantic_type\": \"\",\n        \"description\": \"\"\n      }\n    },\n    {\n      \"column\": \"fragment\",\n      \"properties\": {\n        \"dtype\": \"string\",\n        \"num_unique_values\": 112,\n        \"samples\": [\n          \"\\u0414\\u0430\\u0439, \\u0414\\u0436\\u0438\\u043c, \\u043d\\u0430 \\u0441\\u0447\\u0430\\u0441\\u0442\\u044c\\u0435 \\u043b\\u0430\\u043f\\u0443 \\u043c\\u043d\\u0435,\\r\\n\\u0422\\u0430\\u043a\\u0443\\u044e \\u043b\\u0430\\u043f\\u0443 \\u043d\\u0435 \\u0432\\u0438\\u0434\\u0430\\u043b \\u044f \\u0441\\u0440\\u043e\\u0434\\u0443.\\r\\n\\u0414\\u0430\\u0432\\u0430\\u0439 \\u0441 \\u0442\\u043e\\u0431\\u043e\\u0439 \\u043f\\u043e\\u043b\\u0430\\u0435\\u043c \\u043f\\u0440\\u0438 \\u043b\\u0443\\u043d\\u0435\\r\\n\\u041d\\u0430 \\u0442\\u0438\\u0445\\u0443\\u044e, \\u0431\\u0435\\u0441\\u0448\\u0443\\u043c\\u043d\\u0443\\u044e \\u043f\\u043e\\u0433\\u043e\\u0434\\u0443.\\r\\n\\u0414\\u0430\\u0439, \\u0414\\u0436\\u0438\\u043c, \\u043d\\u0430 \\u0441\\u0447\\u0430\\u0441\\u0442\\u044c\\u0435 \\u043b\\u0430\\u043f\\u0443 \\u043c\\u043d\\u0435.\\r\\n\\u041f\\u043e\\u0436\\u0430\\u043b\\u0443\\u0439\\u0441\\u0442\\u0430, \\u0433\\u043e\\u043b\\u0443\\u0431\\u0447\\u0438\\u043a, \\u043d\\u0435 \\u043b\\u0438\\u0436\\u0438\\u0441\\u044c.\\r\\n\\u041f\\u043e\\u0439\\u043c\\u0438 \\u0441\\u043e \\u043c\\u043d\\u043e\\u0439 \\u0445\\u043e\\u0442\\u044c \\u0441\\u0430\\u043c\\u043e\\u0435 \\u043f\\u0440\\u043e\\u0441\\u0442\\u043e\\u0435.\\r\\n\\u0412\\u0435\\u0434\\u044c \\u0442\\u044b \\u043d\\u0435 \\u0437\\u043d\\u0430\\u0435\\u0448\\u044c, \\u0447\\u0442\\u043e \\u0442\\u0430\\u043a\\u043e\\u0435 \\u0436\\u0438\\u0437\\u043d\\u044c,\\r\\n\\u041d\\u0435 \\u0437\\u043d\\u0430\\u0435\\u0448\\u044c \\u0442\\u044b, \\u0447\\u0442\\u043e \\u0436\\u0438\\u0442\\u044c \\u043d\\u0430 \\u0441\\u0432\\u0435\\u0442\\u0435 \\u0441\\u0442\\u043e\\u0438\\u0442.\\r\\n\\u0425\\u043e\\u0437\\u044f\\u0438\\u043d \\u0442\\u0432\\u043e\\u0439 \\u0438 \\u043c\\u0438\\u043b \\u0438 \\u0437\\u043d\\u0430\\u043c\\u0435\\u043d\\u0438\\u0442,\\r\\n\\u0418 \\u0443 \\u043d\\u0435\\u0433\\u043e \\u0433\\u043e\\u0441\\u0442\\u0435\\u0439 \\u0431\\u044b\\u0432\\u0430\\u0435\\u0442 \\u0432 \\u0434\\u043e\\u043c\\u0435 \\u043c\\u043d\\u043e\\u0433\\u043e,\\r\\n\\u0418 \\u043a\\u0430\\u0436\\u0434\\u044b\\u0439, \\u0443\\u043b\\u044b\\u0431\\u0430\\u044f\\u0441\\u044c, \\u043d\\u043e\\u0440\\u043e\\u0432\\u0438\\u0442\\r\\n\\u0422\\u0435\\u0431\\u044f \\u043f\\u043e \\u0448\\u0435\\u0440\\u0441\\u0442\\u0438 \\u0431\\u0430\\u0440\\u0445\\u0430\\u0442\\u043d\\u043e\\u0439 \\u043f\\u043e\\u0442\\u0440\\u043e\\u0433\\u0430\\u0442\\u044c.\\r\\n\\u0422\\u044b \\u043f\\u043e-\\u0441\\u043e\\u0431\\u0430\\u0447\\u044c\\u0438 \\u0434\\u044c\\u044f\\u0432\\u043e\\u043b\\u044c\\u0441\\u043a\\u0438 \\u043a\\u0440\\u0430\\u0441\\u0438\\u0432,\\r\\n\\u0421 \\u0442\\u0430\\u043a\\u043e\\u044e \\u043c\\u0438\\u043b\\u043e\\u044e \\u0434\\u043e\\u0432\\u0435\\u0440\\u0447\\u0438\\u0432\\u043e\\u0439 \\u043f\\u0440\\u0438\\u044f\\u0442\\u0446\\u0435\\u0439.\\r\\n\\u0418, \\u043d\\u0438\\u043a\\u043e\\u0433\\u043e \\u043d\\u0438 \\u043a\\u0430\\u043f\\u043b\\u0438 \\u043d\\u0435 \\u0441\\u043f\\u0440\\u043e\\u0441\\u0438\\u0432,\\r\\n\\u041a\\u0430\\u043a \\u043f\\u044c\\u044f\\u043d\\u044b\\u0439 \\u0434\\u0440\\u0443\\u0433, \\u0442\\u044b \\u043b\\u0435\\u0437\\u0435\\u0448\\u044c \\u0446\\u0435\\u043b\\u043e\\u0432\\u0430\\u0442\\u044c\\u0441\\u044f.\\r\\n\\u041c\\u043e\\u0439 \\u043c\\u0438\\u043b\\u044b\\u0439 \\u0414\\u0436\\u0438\\u043c, \\u0441\\u0440\\u0435\\u0434\\u0438 \\u0442\\u0432\\u043e\\u0438\\u0445 \\u0433\\u043e\\u0441\\u0442\\u0435\\u0439\\r\\n\\u0422\\u0430\\u043a \\u043c\\u043d\\u043e\\u0433\\u043e \\u0432\\u0441\\u044f\\u043a\\u0438\\u0445 \\u0438 \\u043d\\u0435\\u0432\\u0441\\u044f\\u043a\\u0438\\u0445 \\u0431\\u044b\\u043b\\u043e.\\r\\n\\u041d\\u043e \\u0442\\u0430, \\u0447\\u0442\\u043e \\u0432\\u0441\\u0435\\u0445 \\u0431\\u0435\\u0437\\u043c\\u043e\\u043b\\u0432\\u043d\\u0435\\u0439 \\u0438 \\u0433\\u0440\\u0443\\u0441\\u0442\\u043d\\u0435\\u0439,\\r\\n\\u0421\\u044e\\u0434\\u0430 \\u0441\\u043b\\u0443\\u0447\\u0430\\u0439\\u043d\\u043e \\u0432\\u0434\\u0440\\u0443\\u0433 \\u043d\\u0435 \\u0437\\u0430\\u0445\\u043e\\u0434\\u0438\\u043b\\u0430?\\r\\n\\u041e\\u043d\\u0430 \\u043f\\u0440\\u0438\\u0434\\u0435\\u0442, \\u0434\\u0430\\u044e \\u0442\\u0435\\u0431\\u0435 \\u043f\\u043e\\u0440\\u0443\\u043a\\u0443.\\r\\n\\u0418 \\u0431\\u0435\\u0437 \\u043c\\u0435\\u043d\\u044f, \\u0432 \\u0435\\u0435 \\u0443\\u0441\\u0442\\u0430\\u0432\\u044f\\u0441\\u044c \\u0432\\u0437\\u0433\\u043b\\u044f\\u0434,\\r\\n\\u0422\\u044b \\u0437\\u0430 \\u043c\\u0435\\u043d\\u044f \\u043b\\u0438\\u0437\\u043d\\u0438 \\u0435\\u0439 \\u043d\\u0435\\u0436\\u043d\\u043e \\u0440\\u0443\\u043a\\u0443\\r\\n\\u0417\\u0430 \\u0432\\u0441\\u0435, \\u0432 \\u0447\\u0435\\u043c \\u0431\\u044b\\u043b \\u0438 \\u043d\\u0435 \\u0431\\u044b\\u043b \\u0432\\u0438\\u043d\\u043e\\u0432\\u0430\\u0442.\\r\",\n          \"\\u0414\\u0432\\u0435\\u0441\\u0442\\u0438 \\u0443\\u0436 \\u0434\\u043d\\u0435\\u0439,\\n\\u0414\\u0432\\u0435\\u0441\\u0442\\u0438 \\u043d\\u043e\\u0447\\u0435\\u0439A\\n\\u041c\\u0443\\u043a\\u0438 \\u043c\\u043e\\u0438 \\u043f\\u0440\\u043e\\u0434\\u043e\\u043b\\u0436\\u0430\\u044e\\u0442\\u0441\\u044f;\\n\\u041d\\u043e\\u0447\\u044c\\u044e \\u0438 \\u0434\\u043d\\u0435\\u043c\\n\\u0412 \\u0441\\u0435\\u0440\\u0434\\u0446\\u0435 \\u0442\\u0432\\u043e\\u0435\\u043c\\n\\u0421\\u0442\\u043e\\u043d\\u044b \\u043c\\u043e\\u0438 \\u043e\\u0442\\u0437\\u044b\\u0432\\u0430\\u044e\\u0442\\u0441\\u044f,\\n\\u0414\\u0432\\u0435\\u0441\\u0442\\u0438 \\u0443\\u0436 \\u0434\\u043d\\u0435\\u0439,\\n\\u0414\\u0432\\u0435\\u0441\\u0442\\u0438 \\u043d\\u043e\\u0447\\u0435\\u0439!\\n\\u0422\\u0435\\u043c\\u043d\\u044b\\u0435 \\u0437\\u0438\\u043c\\u043d\\u0438\\u0435 \\u0434\\u043d\\u0438,\\n\\u042f\\u0441\\u043d\\u044b\\u0435 \\u0437\\u0438\\u043c\\u043d\\u0438\\u0435 \\u043d\\u043e\\u0447\\u0438...\\n\\u0417\\u27e8\\u0438\\u27e9\\u043d\\u0430! \\u0437\\u0430\\u043a\\u0440\\u043e\\u0439 \\u0443\\u0442\\u043e\\u043c\\u043b\\u0435\\u043d\\u043d\\u044b\\u0435 \\u043e\\u0447\\u0438!\\n\\u0417\\u27e8\\u0438\\u27e9\\u043d\\u0430! \\u0443\\u0441\\u043d\\u0438!\\n\",\n          \"\\u0411\\u0435\\u043b\\u0435\\u0435\\u0442 \\u043f\\u0430\\u0440\\u0443\\u0441 \\u043e\\u0434\\u0438\\u043d\\u043e\\u043a\\u043e\\u0439\\n\\u0412 \\u0442\\u0443\\u043c\\u0430\\u043d\\u0435 \\u043c\\u043e\\u0440\\u044f \\u0433\\u043e\\u043b\\u0443\\u0431\\u043e\\u043c!..\\n\\u0427\\u0442\\u043e \\u0438\\u0449\\u0435\\u0442 \\u043e\\u043d \\u0432 \\u0441\\u0442\\u0440\\u0430\\u043d\\u0435 \\u0434\\u0430\\u043b\\u0435\\u043a\\u043e\\u0439?\\n\\u0427\\u0442\\u043e \\u043a\\u0438\\u043d\\u0443\\u043b \\u043e\\u043d \\u0432 \\u043a\\u0440\\u0430\\u044e \\u0440\\u043e\\u0434\\u043d\\u043e\\u043c?...\\n\\u0418\\u0433\\u0440\\u0430\\u044e\\u0442 \\u0432\\u043e\\u043b\\u043d\\u044b \\u2014 \\u0432\\u0435\\u0442\\u0435\\u0440 \\u0441\\u0432\\u0438\\u0449\\u0435\\u0442,\\n\\u0418 \\u043c\\u0430\\u0447\\u0442\\u0430 \\u0433\\u043d\\u0435\\u0442\\u0441\\u044f \\u0438 \\u0441\\u043a\\u0440\\u044b\\u043f\\u0438\\u0442...\\n\\u0423\\u0432\\u044b! \\u041e\\u043d \\u0441\\u0447\\u0430\\u0441\\u0442\\u0438\\u044f \\u043d\\u0435 \\u0438\\u0449\\u0435\\u0442\\n\\u0418 \\u043d\\u0435 \\u043e\\u0442 \\u0441\\u0447\\u0430\\u0441\\u0442\\u0438\\u044f \\u0431\\u0435\\u0436\\u0438\\u0442!\\n\\u041f\\u043e\\u0434 \\u043d\\u0438\\u043c \\u0441\\u0442\\u0440\\u0443\\u044f \\u0441\\u0432\\u0435\\u0442\\u043b\\u0435\\u0439 \\u043b\\u0430\\u0437\\u0443\\u0440\\u0438,\\n\\u041d\\u0430\\u0434 \\u043d\\u0438\\u043c \\u043b\\u0443\\u0447 \\u0441\\u043e\\u043b\\u043d\\u0446\\u0430 \\u0437\\u043e\\u043b\\u043e\\u0442\\u043e\\u0439...\\n\\u0410 \\u043e\\u043d, \\u043c\\u044f\\u0442\\u0435\\u0436\\u043d\\u044b\\u0439, \\u043f\\u0440\\u043e\\u0441\\u0438\\u0442 \\u0431\\u0443\\u0440\\u0438,\\n\\u041a\\u0430\\u043a \\u0431\\u0443\\u0434\\u0442\\u043e \\u0432 \\u0431\\u0443\\u0440\\u044f\\u0445 \\u0435\\u0441\\u0442\\u044c \\u043f\\u043e\\u043a\\u043e\\u0439!\"\n        ],\n        \"semantic_type\": \"\",\n        \"description\": \"\"\n      }\n    }\n  ]\n}"
            }
          },
          "metadata": {},
          "execution_count": 119
        }
      ]
    },
    {
      "cell_type": "code",
      "source": [
        "df.describe()"
      ],
      "metadata": {
        "colab": {
          "base_uri": "https://localhost:8080/",
          "height": 175
        },
        "id": "YXLHcIe7a8o4",
        "outputId": "225127cd-d3ef-496f-dbda-dbbbb7777448"
      },
      "execution_count": 120,
      "outputs": [
        {
          "output_type": "execute_result",
          "data": {
            "text/plain": [
              "                author  title  \\\n",
              "count              112    112   \n",
              "unique               4    107   \n",
              "top     Лермонтов М.Ю.  empty   \n",
              "freq                28      4   \n",
              "\n",
              "                                                 fragment  \n",
              "count                                                 112  \n",
              "unique                                                112  \n",
              "top     В простосердечии невежды\\nКороче знать вас я ж...  \n",
              "freq                                                    1  "
            ],
            "text/html": [
              "\n",
              "  <div id=\"df-783aac6b-635e-4357-90ea-41862ba41a78\" class=\"colab-df-container\">\n",
              "    <div>\n",
              "<style scoped>\n",
              "    .dataframe tbody tr th:only-of-type {\n",
              "        vertical-align: middle;\n",
              "    }\n",
              "\n",
              "    .dataframe tbody tr th {\n",
              "        vertical-align: top;\n",
              "    }\n",
              "\n",
              "    .dataframe thead th {\n",
              "        text-align: right;\n",
              "    }\n",
              "</style>\n",
              "<table border=\"1\" class=\"dataframe\">\n",
              "  <thead>\n",
              "    <tr style=\"text-align: right;\">\n",
              "      <th></th>\n",
              "      <th>author</th>\n",
              "      <th>title</th>\n",
              "      <th>fragment</th>\n",
              "    </tr>\n",
              "  </thead>\n",
              "  <tbody>\n",
              "    <tr>\n",
              "      <th>count</th>\n",
              "      <td>112</td>\n",
              "      <td>112</td>\n",
              "      <td>112</td>\n",
              "    </tr>\n",
              "    <tr>\n",
              "      <th>unique</th>\n",
              "      <td>4</td>\n",
              "      <td>107</td>\n",
              "      <td>112</td>\n",
              "    </tr>\n",
              "    <tr>\n",
              "      <th>top</th>\n",
              "      <td>Лермонтов М.Ю.</td>\n",
              "      <td>empty</td>\n",
              "      <td>В простосердечии невежды\\nКороче знать вас я ж...</td>\n",
              "    </tr>\n",
              "    <tr>\n",
              "      <th>freq</th>\n",
              "      <td>28</td>\n",
              "      <td>4</td>\n",
              "      <td>1</td>\n",
              "    </tr>\n",
              "  </tbody>\n",
              "</table>\n",
              "</div>\n",
              "    <div class=\"colab-df-buttons\">\n",
              "\n",
              "  <div class=\"colab-df-container\">\n",
              "    <button class=\"colab-df-convert\" onclick=\"convertToInteractive('df-783aac6b-635e-4357-90ea-41862ba41a78')\"\n",
              "            title=\"Convert this dataframe to an interactive table.\"\n",
              "            style=\"display:none;\">\n",
              "\n",
              "  <svg xmlns=\"http://www.w3.org/2000/svg\" height=\"24px\" viewBox=\"0 -960 960 960\">\n",
              "    <path d=\"M120-120v-720h720v720H120Zm60-500h600v-160H180v160Zm220 220h160v-160H400v160Zm0 220h160v-160H400v160ZM180-400h160v-160H180v160Zm440 0h160v-160H620v160ZM180-180h160v-160H180v160Zm440 0h160v-160H620v160Z\"/>\n",
              "  </svg>\n",
              "    </button>\n",
              "\n",
              "  <style>\n",
              "    .colab-df-container {\n",
              "      display:flex;\n",
              "      gap: 12px;\n",
              "    }\n",
              "\n",
              "    .colab-df-convert {\n",
              "      background-color: #E8F0FE;\n",
              "      border: none;\n",
              "      border-radius: 50%;\n",
              "      cursor: pointer;\n",
              "      display: none;\n",
              "      fill: #1967D2;\n",
              "      height: 32px;\n",
              "      padding: 0 0 0 0;\n",
              "      width: 32px;\n",
              "    }\n",
              "\n",
              "    .colab-df-convert:hover {\n",
              "      background-color: #E2EBFA;\n",
              "      box-shadow: 0px 1px 2px rgba(60, 64, 67, 0.3), 0px 1px 3px 1px rgba(60, 64, 67, 0.15);\n",
              "      fill: #174EA6;\n",
              "    }\n",
              "\n",
              "    .colab-df-buttons div {\n",
              "      margin-bottom: 4px;\n",
              "    }\n",
              "\n",
              "    [theme=dark] .colab-df-convert {\n",
              "      background-color: #3B4455;\n",
              "      fill: #D2E3FC;\n",
              "    }\n",
              "\n",
              "    [theme=dark] .colab-df-convert:hover {\n",
              "      background-color: #434B5C;\n",
              "      box-shadow: 0px 1px 3px 1px rgba(0, 0, 0, 0.15);\n",
              "      filter: drop-shadow(0px 1px 2px rgba(0, 0, 0, 0.3));\n",
              "      fill: #FFFFFF;\n",
              "    }\n",
              "  </style>\n",
              "\n",
              "    <script>\n",
              "      const buttonEl =\n",
              "        document.querySelector('#df-783aac6b-635e-4357-90ea-41862ba41a78 button.colab-df-convert');\n",
              "      buttonEl.style.display =\n",
              "        google.colab.kernel.accessAllowed ? 'block' : 'none';\n",
              "\n",
              "      async function convertToInteractive(key) {\n",
              "        const element = document.querySelector('#df-783aac6b-635e-4357-90ea-41862ba41a78');\n",
              "        const dataTable =\n",
              "          await google.colab.kernel.invokeFunction('convertToInteractive',\n",
              "                                                    [key], {});\n",
              "        if (!dataTable) return;\n",
              "\n",
              "        const docLinkHtml = 'Like what you see? Visit the ' +\n",
              "          '<a target=\"_blank\" href=https://colab.research.google.com/notebooks/data_table.ipynb>data table notebook</a>'\n",
              "          + ' to learn more about interactive tables.';\n",
              "        element.innerHTML = '';\n",
              "        dataTable['output_type'] = 'display_data';\n",
              "        await google.colab.output.renderOutput(dataTable, element);\n",
              "        const docLink = document.createElement('div');\n",
              "        docLink.innerHTML = docLinkHtml;\n",
              "        element.appendChild(docLink);\n",
              "      }\n",
              "    </script>\n",
              "  </div>\n",
              "\n",
              "\n",
              "<div id=\"df-e232c160-88c9-44ee-bc4f-d4b631d755b8\">\n",
              "  <button class=\"colab-df-quickchart\" onclick=\"quickchart('df-e232c160-88c9-44ee-bc4f-d4b631d755b8')\"\n",
              "            title=\"Suggest charts\"\n",
              "            style=\"display:none;\">\n",
              "\n",
              "<svg xmlns=\"http://www.w3.org/2000/svg\" height=\"24px\"viewBox=\"0 0 24 24\"\n",
              "     width=\"24px\">\n",
              "    <g>\n",
              "        <path d=\"M19 3H5c-1.1 0-2 .9-2 2v14c0 1.1.9 2 2 2h14c1.1 0 2-.9 2-2V5c0-1.1-.9-2-2-2zM9 17H7v-7h2v7zm4 0h-2V7h2v10zm4 0h-2v-4h2v4z\"/>\n",
              "    </g>\n",
              "</svg>\n",
              "  </button>\n",
              "\n",
              "<style>\n",
              "  .colab-df-quickchart {\n",
              "      --bg-color: #E8F0FE;\n",
              "      --fill-color: #1967D2;\n",
              "      --hover-bg-color: #E2EBFA;\n",
              "      --hover-fill-color: #174EA6;\n",
              "      --disabled-fill-color: #AAA;\n",
              "      --disabled-bg-color: #DDD;\n",
              "  }\n",
              "\n",
              "  [theme=dark] .colab-df-quickchart {\n",
              "      --bg-color: #3B4455;\n",
              "      --fill-color: #D2E3FC;\n",
              "      --hover-bg-color: #434B5C;\n",
              "      --hover-fill-color: #FFFFFF;\n",
              "      --disabled-bg-color: #3B4455;\n",
              "      --disabled-fill-color: #666;\n",
              "  }\n",
              "\n",
              "  .colab-df-quickchart {\n",
              "    background-color: var(--bg-color);\n",
              "    border: none;\n",
              "    border-radius: 50%;\n",
              "    cursor: pointer;\n",
              "    display: none;\n",
              "    fill: var(--fill-color);\n",
              "    height: 32px;\n",
              "    padding: 0;\n",
              "    width: 32px;\n",
              "  }\n",
              "\n",
              "  .colab-df-quickchart:hover {\n",
              "    background-color: var(--hover-bg-color);\n",
              "    box-shadow: 0 1px 2px rgba(60, 64, 67, 0.3), 0 1px 3px 1px rgba(60, 64, 67, 0.15);\n",
              "    fill: var(--button-hover-fill-color);\n",
              "  }\n",
              "\n",
              "  .colab-df-quickchart-complete:disabled,\n",
              "  .colab-df-quickchart-complete:disabled:hover {\n",
              "    background-color: var(--disabled-bg-color);\n",
              "    fill: var(--disabled-fill-color);\n",
              "    box-shadow: none;\n",
              "  }\n",
              "\n",
              "  .colab-df-spinner {\n",
              "    border: 2px solid var(--fill-color);\n",
              "    border-color: transparent;\n",
              "    border-bottom-color: var(--fill-color);\n",
              "    animation:\n",
              "      spin 1s steps(1) infinite;\n",
              "  }\n",
              "\n",
              "  @keyframes spin {\n",
              "    0% {\n",
              "      border-color: transparent;\n",
              "      border-bottom-color: var(--fill-color);\n",
              "      border-left-color: var(--fill-color);\n",
              "    }\n",
              "    20% {\n",
              "      border-color: transparent;\n",
              "      border-left-color: var(--fill-color);\n",
              "      border-top-color: var(--fill-color);\n",
              "    }\n",
              "    30% {\n",
              "      border-color: transparent;\n",
              "      border-left-color: var(--fill-color);\n",
              "      border-top-color: var(--fill-color);\n",
              "      border-right-color: var(--fill-color);\n",
              "    }\n",
              "    40% {\n",
              "      border-color: transparent;\n",
              "      border-right-color: var(--fill-color);\n",
              "      border-top-color: var(--fill-color);\n",
              "    }\n",
              "    60% {\n",
              "      border-color: transparent;\n",
              "      border-right-color: var(--fill-color);\n",
              "    }\n",
              "    80% {\n",
              "      border-color: transparent;\n",
              "      border-right-color: var(--fill-color);\n",
              "      border-bottom-color: var(--fill-color);\n",
              "    }\n",
              "    90% {\n",
              "      border-color: transparent;\n",
              "      border-bottom-color: var(--fill-color);\n",
              "    }\n",
              "  }\n",
              "</style>\n",
              "\n",
              "  <script>\n",
              "    async function quickchart(key) {\n",
              "      const quickchartButtonEl =\n",
              "        document.querySelector('#' + key + ' button');\n",
              "      quickchartButtonEl.disabled = true;  // To prevent multiple clicks.\n",
              "      quickchartButtonEl.classList.add('colab-df-spinner');\n",
              "      try {\n",
              "        const charts = await google.colab.kernel.invokeFunction(\n",
              "            'suggestCharts', [key], {});\n",
              "      } catch (error) {\n",
              "        console.error('Error during call to suggestCharts:', error);\n",
              "      }\n",
              "      quickchartButtonEl.classList.remove('colab-df-spinner');\n",
              "      quickchartButtonEl.classList.add('colab-df-quickchart-complete');\n",
              "    }\n",
              "    (() => {\n",
              "      let quickchartButtonEl =\n",
              "        document.querySelector('#df-e232c160-88c9-44ee-bc4f-d4b631d755b8 button');\n",
              "      quickchartButtonEl.style.display =\n",
              "        google.colab.kernel.accessAllowed ? 'block' : 'none';\n",
              "    })();\n",
              "  </script>\n",
              "</div>\n",
              "\n",
              "    </div>\n",
              "  </div>\n"
            ],
            "application/vnd.google.colaboratory.intrinsic+json": {
              "type": "dataframe",
              "summary": "{\n  \"name\": \"df\",\n  \"rows\": 4,\n  \"fields\": [\n    {\n      \"column\": \"author\",\n      \"properties\": {\n        \"dtype\": \"string\",\n        \"num_unique_values\": 4,\n        \"samples\": [\n          4,\n          \"28\",\n          \"112\"\n        ],\n        \"semantic_type\": \"\",\n        \"description\": \"\"\n      }\n    },\n    {\n      \"column\": \"title\",\n      \"properties\": {\n        \"dtype\": \"string\",\n        \"num_unique_values\": 4,\n        \"samples\": [\n          107,\n          \"4\",\n          \"112\"\n        ],\n        \"semantic_type\": \"\",\n        \"description\": \"\"\n      }\n    },\n    {\n      \"column\": \"fragment\",\n      \"properties\": {\n        \"dtype\": \"string\",\n        \"num_unique_values\": 3,\n        \"samples\": [\n          \"112\",\n          \"\\u0412 \\u043f\\u0440\\u043e\\u0441\\u0442\\u043e\\u0441\\u0435\\u0440\\u0434\\u0435\\u0447\\u0438\\u0438 \\u043d\\u0435\\u0432\\u0435\\u0436\\u0434\\u044b\\n\\u041a\\u043e\\u0440\\u043e\\u0447\\u0435 \\u0437\\u043d\\u0430\\u0442\\u044c \\u0432\\u0430\\u0441 \\u044f \\u0436\\u0435\\u043b\\u0430\\u043b\\n\\u041d\\u043e \\u044d\\u0442\\u0438 \\u0441\\u043b\\u0430\\u0434\\u043a\\u0438\\u0435 \\u043d\\u0430\\u0434\\u0435\\u0436\\u0434\\u044b\\n\\u0422\\u0435\\u043f\\u0435\\u0440\\u044c \\u044f \\u0432\\u043e\\u0432\\u0441\\u0435 \\u043f\\u043e\\u0442\\u0435\\u0440\\u044f\\u043b.\\n\\u0411\\u0435\\u0437 \\u0432\\u0430\\u0441 \\u2014 \\u0445\\u043e\\u0447\\u0443 \\u0441\\u043a\\u0430\\u0437\\u0430\\u0442\\u044c \\u0432\\u0430\\u043c \\u043c\\u043d\\u043e\\u0433\\u043e,\\n\\u041f\\u0440\\u0438 \\u0432\\u0430\\u0441 \\u2014 \\u044f \\u0441\\u043b\\u0443\\u0448\\u0430\\u0442\\u044c \\u0432\\u0430\\u0441 \\u0445\\u043e\\u0447\\u0443;\\n\\u041d\\u043e \\u043c\\u043e\\u043b\\u0447\\u0430 \\u0432\\u044b \\u0433\\u043b\\u044f\\u0434\\u0438\\u0442\\u0435 \\u0441\\u0442\\u0440\\u043e\\u0433\\u043e,\\n\\u0418 \\u044f, \\u0432 \\u0441\\u043c\\u0443\\u0449\\u0435\\u043d\\u0438\\u0438, \\u043c\\u043e\\u043b\\u0447\\u0443!\\n\\u0427\\u0442\\u043e \\u0436 \\u0434\\u0435\\u043b\\u0430\\u0442\\u044c? \\u2014 \\u0440\\u0435\\u0447\\u044c\\u044e \\u0431\\u0435\\u0437\\u044b\\u0441\\u043a\\u0443\\u0441\\u043d\\u043e\\u0439\\n\\u0412\\u0430\\u0448 \\u0443\\u043c \\u0437\\u0430\\u043d\\u044f\\u0442\\u044c \\u043c\\u043d\\u0435 \\u043d\\u0435 \\u0434\\u0430\\u043d\\u043e...\\n\\u0412\\u0441\\u0435 \\u044d\\u0442\\u043e \\u0431\\u044b\\u043b\\u043e \\u0431\\u044b \\u0441\\u043c\\u0435\\u0448\\u043d\\u043e,\\n\\u041a\\u043e\\u0433\\u0434\\u0430 \\u0431\\u044b \\u043d\\u0435 \\u0431\\u044b\\u043b\\u043e \\u0442\\u0430\\u043a \\u0433\\u0440\\u0443\\u0441\\u0442\\u043d\\u043e.\\n\",\n          \"1\"\n        ],\n        \"semantic_type\": \"\",\n        \"description\": \"\"\n      }\n    }\n  ]\n}"
            }
          },
          "metadata": {},
          "execution_count": 120
        }
      ]
    },
    {
      "cell_type": "code",
      "source": [
        "df.info()"
      ],
      "metadata": {
        "colab": {
          "base_uri": "https://localhost:8080/"
        },
        "id": "SP-AM_5wbEcQ",
        "outputId": "05528ef8-0a26-4207-eeda-2b25776a9c15"
      },
      "execution_count": 121,
      "outputs": [
        {
          "output_type": "stream",
          "name": "stdout",
          "text": [
            "<class 'pandas.core.frame.DataFrame'>\n",
            "RangeIndex: 112 entries, 0 to 111\n",
            "Data columns (total 3 columns):\n",
            " #   Column    Non-Null Count  Dtype \n",
            "---  ------    --------------  ----- \n",
            " 0   author    112 non-null    object\n",
            " 1   title     112 non-null    object\n",
            " 2   fragment  112 non-null    object\n",
            "dtypes: object(3)\n",
            "memory usage: 2.8+ KB\n"
          ]
        }
      ]
    },
    {
      "cell_type": "markdown",
      "source": [
        "# Data Preprocessing"
      ],
      "metadata": {
        "id": "TrrJa2mFj_sN"
      }
    },
    {
      "cell_type": "code",
      "source": [
        "data_raw = df\n",
        "# Step 1: Load the CSV File\n",
        "def load_data(filename=data_raw):\n",
        "    data = pd.read_csv(filename)\n",
        "    print(f\"Data loaded successfully! Total records: {len(data)}\")\n",
        "    return data\n",
        "\n",
        "# Step 2: Preprocess the Text\n",
        "def preprocess_text(text):\n",
        "    # Basic cleaning: Remove extra spaces and special characters\n",
        "    text = text.strip()  # Remove leading/trailing spaces\n",
        "    text = text.replace(\"\\n\", \" \")  # Replace newlines with space\n",
        "    return text\n",
        "\n",
        "# Step 3: Split the Data - function yg ada dibawah ini khusus untuk data yg besar\n",
        "def split_data(data, test_size=0.2, val_size=0.1):\n",
        "    # Preprocess text\n",
        "    data[\"fragment\"] = data[\"fragment\"].apply(preprocess_text)\n",
        "\n",
        "    # Split into training + validation and test sets\n",
        "    train_val, test = train_test_split(data, test_size=test_size, stratify=data[\"author\"], random_state=42)\n",
        "\n",
        "    # Split training + validation into separate training and validation sets\n",
        "    val_ratio = val_size / (1 - test_size)  # Adjust validation ratio\n",
        "    train, val = train_test_split(train_val, test_size=val_ratio, stratify=train_val[\"author\"], random_state=42)\n",
        "\n",
        "    print(f\"Data split completed:\")\n",
        "    print(f\" - Training set: {len(train)} samples\")\n",
        "    print(f\" - Validation set: {len(val)} samples\")\n",
        "    print(f\" - Test set: {len(test)} samples\")\n",
        "\n",
        "    return train, val, test"
      ],
      "metadata": {
        "id": "lSzfjxitj5rg"
      },
      "execution_count": 122,
      "outputs": []
    },
    {
      "cell_type": "markdown",
      "source": [
        "- def load_data(filename=data_raw):: Эта строка определяет функцию с именем load_data. Она принимает один аргумент, filename, который по умолчанию равен data_raw, если не указан.\n",
        "- data = pd.read_csv(filename): Эта строка использует функцию pd.read_csv из библиотеки pandas для чтения CSV-файла, указанного в filename, и сохраняет его в DataFrame с именем data.\n",
        "- print(f\"Data loaded successfully! Total records: {len(data)}\"): Эта строка выводит сообщение, указывающее на успешную загрузку данных, и отображает общее количество записей в DataFrame.\n",
        "\n",
        "- def preprocess_text(text):: Эта строка определяет функцию с именем preprocess_text. Она принимает один аргумент, text, который представляет текст для предварительной обработки.\n",
        "- text = text.strip(): Эта строка удаляет начальные и конечные пробелы из text.\n",
        "- text = text.replace(\"\\n\", \" \"): Эта строка заменяет символы новой строки (\\n) пробелами.\n",
        "- return text: Эта строка возвращает предварительно обработанный текст.\n",
        "\n",
        "- def split_data(data, test_size=0.2, val_size=0.1):: Эта строка определяет функцию с именем split_data. Она принимает три аргумента: data для разделения, test_size (по умолчанию 0,2 или 20%) и val_size (по умолчанию 0,1 или 10%).\n",
        "- data[\"fragment\"] = data[\"fragment\"].apply(preprocess_text): Эта строка применяет функцию preprocess_text к столбцу 'fragment' DataFrame, вероятно содержащему текстовые данные.\n",
        "- train_val, test = train_test_split(...): Эта строка использует train_test_split из sklearn для разделения данных на два набора: train_val (для обучения и валидации) и test. Параметр stratify гарантирует, что разделения имеют аналогичное распределение значений author. random_state гарантирует воспроизводимость разделения.\n",
        "- train, val = train_test_split(...): Эта строка дополнительно разделяет train_val на наборы train и val, используя аналогичную логику.\n",
        "- print(...): Этот блок выводит информацию о размерах созданных наборов данных.\n",
        "- return train, val, test: Эта строка возвращает три созданных DataFrame: train, val и test."
      ],
      "metadata": {
        "id": "TTeQWrB2gf83"
      }
    },
    {
      "cell_type": "markdown",
      "source": [
        "### Check for each step"
      ],
      "metadata": {
        "id": "jVq9nMOTkKdn"
      }
    },
    {
      "cell_type": "code",
      "source": [
        "train, val, test= split_data(data_raw)\n",
        "\n",
        "# save the splits for later use\n",
        "train.to_csv('train.csv', index=False, encoding='utf-8')\n",
        "val.to_csv('val.csv', index=False, encoding='utf-8')\n",
        "test.to_csv('test.csv', index=False, encoding='utf-8')\n",
        "\n",
        "print('Trian, validation, and test sets saved successfully!')"
      ],
      "metadata": {
        "colab": {
          "base_uri": "https://localhost:8080/"
        },
        "id": "epNNEl4-kMyz",
        "outputId": "23005c38-8353-4aa4-af85-62e12cef404f"
      },
      "execution_count": 123,
      "outputs": [
        {
          "output_type": "stream",
          "name": "stdout",
          "text": [
            "Data split completed:\n",
            " - Training set: 77 samples\n",
            " - Validation set: 12 samples\n",
            " - Test set: 23 samples\n",
            "Trian, validation, and test sets saved successfully!\n"
          ]
        }
      ]
    },
    {
      "cell_type": "markdown",
      "source": [
        "# Tokenization & text Vectorization"
      ],
      "metadata": {
        "id": "tSCTp0AEFW5j"
      }
    },
    {
      "cell_type": "code",
      "source": [
        "# step 1: load the pre-trained tokenizer\n",
        "def load_tokenizer():\n",
        "  # using BERT method\n",
        "    tokenizer= BertTokenizer.from_pretrained('bert-base-multilingual-cased')\n",
        "    print('Tokenizer loaded successfully!\\n')\n",
        "    return tokenizer\n",
        "\n",
        "# step 2: tokenize the text data\n",
        "def tokenize_text(data, tokenize, max_length=128):\n",
        "    # tokenize and pad/truncate sequences to max_length\n",
        "    inputs= tokenize(\n",
        "        list(data['fragment']),\n",
        "        padding='max_length' ,\n",
        "        truncation=True,\n",
        "        max_length=max_length,\n",
        "        return_tensors='tf'\n",
        "    )\n",
        "    print(f\"Tokenization completed! Tokens shape: {inputs['input_ids'].shape}\")\n",
        "    return inputs\n",
        "\n",
        "# Convert tokenized inputs to tensorflow dataset\n",
        "def create_tf_dataset(tokenized_inputs):\n",
        "    dataset= tf.data.Dataset.from_tensor_slices({\n",
        "        'input_ids': tokenized_inputs['input_ids'],\n",
        "        'attention_mask': tokenized_inputs['attention_mask'],\n",
        "        'token_type_ids': tokenized_inputs['token_type_ids'],\n",
        "        })\n",
        "    print('Converted to TensorFlow Dataset successfully!\\n')\n",
        "    return dataset\n",
        "\n",
        "# save tensorflow dataset\n",
        "def save_tf_dataset(dataset, directory):\n",
        "    # ensure the directory exists\n",
        "    if not os.path.exists(directory):\n",
        "        os.makedirs(directory)\n",
        "    # save datasete to disk\n",
        "    tf.data.experimental.save(dataset, directory)\n",
        "    print(f'Dataset saved to {directory} \\n')\n"
      ],
      "metadata": {
        "id": "UcTYUFT2FW5j"
      },
      "execution_count": 124,
      "outputs": []
    },
    {
      "cell_type": "markdown",
      "source": [
        "- def load_tokenizer():: Эта строка определяет функцию с именем load_tokenizer, которая будет отвечать за загрузку предварительно обученного токенизатора.\n",
        "- tokenizer = BertTokenizer.from_pretrained('bert-base-multilingual-cased'): Это ядро функции.\n",
        "  - Она использует класс BertTokenizer из библиотеки transformers.\n",
        "  - from_pretrained('bert-base-multilingual-cased') загружает предварительно обученный токенизатор под названием \"bert-base-multilingual-cased\". Этот конкретный токенизатор предназначен для работы с текстом на нескольких языках и чувствителен к регистру (то есть он различает прописные и строчные буквы).\n",
        "- print('Tokenizer loaded successfully!\\n'): Эта строка просто выводит сообщение на консоль, подтверждая, что токенизатор был загружен.\n",
        "- return tokenizer: Функция возвращает загруженный объект tokenizer, делая его доступным для использования в других частях кода.\n",
        "\n",
        "\n",
        "- def tokenize_text(data, tokenize, max_length=128):: Это определяет функцию с именем tokenize_text, которая принимает данные для токенизации, функцию токенизатора и максимальную длину последовательностей в качестве входных данных.\n",
        "- inputs = tokenize(...): Эта строка применяет функцию tokenize (которая будет объектом tokenizer, загруженным на предыдущем шаге) к текстовым данным.\n",
        "  - list(data['fragment']): Это извлекает текстовое содержимое из столбца с именем 'fragment' в данных и преобразует его в список. Это текст, который будет токенизирован.\n",
        "  - padding='max_length': Гарантирует, что все последовательности имеют одинаковую длину, добавляя токены заполнения к более коротким последовательностям.\n",
        "  - truncation=True: Обрезает последовательности длиннее max_length до указанной максимальной длины.\n",
        "  - max_length=max_length: Устанавливает максимальную длину последовательности (по умолчанию 128 токенов).\n",
        "  - return_tensors='tf': Указывает, что выходные данные должны быть тензорами TensorFlow, которые являются структурами данных, используемыми TensorFlow.\n",
        "- print(f\"Tokenization completed! Tokens shape: {inputs['input_ids'].shape}\"): Выводит сообщение подтверждения и форму токенизированных идентификаторов ввода.\n",
        "- return inputs: Функция возвращает токенизированные входные данные, которые включают 'input_ids', 'attention_mask' и 'token_type_ids'. Они необходимы для моделей BERT.\n",
        "\n",
        "- def create_tf_dataset(tokenized_inputs):: Это определяет функцию, которая принимает токенизированные входные данные из предыдущего шага и создает набор данных TensorFlow.\n",
        "- dataset = tf.data.Dataset.from_tensor_slices(...): Это создает объект набора данных TensorFlow.\n",
        "  - from_tensor_slices используется для создания набора данных из токенизированных входных данных, которые по сути являются фрагментами тензоров (многомерных массивов).\n",
        "- print('Converted to TensorFlow Dataset successfully!\\n'): Выводит сообщение подтверждения.\n",
        "- return dataset: Возвращает созданный набор данных TensorFlow.\n",
        "\n",
        "- def save_tf_dataset(dataset, directory):: Это определяет функцию для сохранения набора данных TensorFlow в указанный каталог.\n",
        "- if not os.path.exists(directory): os.makedirs(directory): Это гарантирует, что целевой каталог существует; если нет, он создается.\n",
        "- tf.data.experimental.save(dataset, directory): Эта строка сохраняет dataset в заданный directory."
      ],
      "metadata": {
        "id": "7o4blBt6jUuX"
      }
    },
    {
      "cell_type": "markdown",
      "source": [
        "###Check each step"
      ],
      "metadata": {
        "id": "4Cq1hb5_k1rT"
      }
    },
    {
      "cell_type": "code",
      "source": [
        "# load data\n",
        "train_data= pd.read_csv('train.csv')\n",
        "val_data= pd.read_csv('val.csv')\n",
        "test_data= pd.read_csv('test.csv')\n",
        "\n",
        "# load tokenizer\n",
        "tokenizer= load_tokenizer()\n",
        "\n",
        "# tokenize text\n",
        "max_length= 128\n",
        "train_inputs= tokenize_text(train_data, tokenizer, max_length)\n",
        "val_inputs= tokenize_text(val_data, tokenizer,max_length)\n",
        "test_inputs= tokenize_text(test_data, tokenizer, max_length)\n",
        "\n",
        "# convert tokenized inputs to tensorflow datasets\n",
        "train_dataset= create_tf_dataset(train_inputs)\n",
        "val_dataset= create_tf_dataset(val_inputs)\n",
        "test_dataset= create_tf_dataset(test_inputs)\n",
        "\n",
        "# save tensorflow\n",
        "save_tf_dataset(train_dataset, 'train_dataset')\n",
        "save_tf_dataset(val_dataset, 'val_dataset')\n",
        "save_tf_dataset(test_dataset, 'test_dataset')\n",
        "\n",
        "print('Tokenized inputs saved successfully!')"
      ],
      "metadata": {
        "colab": {
          "base_uri": "https://localhost:8080/"
        },
        "id": "1KZE6GXqkyy-",
        "outputId": "31f6ab4a-b8b4-4b99-a24a-b2842fc6eea0"
      },
      "execution_count": 125,
      "outputs": [
        {
          "output_type": "stream",
          "name": "stdout",
          "text": [
            "Tokenizer loaded successfully!\n",
            "\n",
            "Tokenization completed! Tokens shape: (77, 128)\n",
            "Tokenization completed! Tokens shape: (12, 128)\n",
            "Tokenization completed! Tokens shape: (23, 128)\n",
            "Converted to TensorFlow Dataset successfully!\n",
            "\n",
            "Converted to TensorFlow Dataset successfully!\n",
            "\n",
            "Converted to TensorFlow Dataset successfully!\n",
            "\n",
            "Dataset saved to train_dataset \n",
            "\n",
            "Dataset saved to val_dataset \n",
            "\n",
            "Dataset saved to test_dataset \n",
            "\n",
            "Tokenized inputs saved successfully!\n"
          ]
        }
      ]
    },
    {
      "cell_type": "markdown",
      "source": [
        "# ===================================================="
      ],
      "metadata": {
        "id": "2Dt6C5TN7xTm"
      }
    },
    {
      "cell_type": "markdown",
      "source": [
        "# Model building & Training"
      ],
      "metadata": {
        "id": "tJs6hTnS_Pss"
      }
    },
    {
      "cell_type": "markdown",
      "source": [
        "## BERT Model"
      ],
      "metadata": {
        "id": "KsvSGwl6Aipd"
      }
    },
    {
      "cell_type": "code",
      "source": [
        "def build_bert_model(pretrained_model_name='bert-base-multilingual-cased', max_length=128, num_classes=2):\n",
        "    \"\"\"\n",
        "    Builds a fine-tuned BERT model for text classification.\n",
        "    Args:\n",
        "        pretrained_model_name (str): Name of the pre-trained BERT model.\n",
        "        max_length (int): Maximum sequence length.\n",
        "        num_classes (int): Number of output classes.\n",
        "    Returns:\n",
        "        tf.keras.Model: Compiled BERT-based model.\n",
        "    \"\"\"\n",
        "    # Load pre-trained BERT model\n",
        "    bert_model = TFBertModel.from_pretrained(pretrained_model_name)\n",
        "\n",
        "    # Input layers\n",
        "    input_ids = tf.keras.layers.Input(shape=(max_length,), dtype=tf.int32, name='input_ids')\n",
        "    attention_mask = tf.keras.layers.Input(shape=(max_length,), dtype=tf.int32, name='attention_mask')\n",
        "\n",
        "    # BERT outputs\n",
        "    outputs = tf.keras.layers.Lambda(\n",
        "        lambda x: bert_model(x[0], attention_mask=x[1]),\n",
        "        output_shape=(max_length, bert_model.config.hidden_size) # Changed to a tuple\n",
        "    )([input_ids, attention_mask])\n",
        "    pooled_output = outputs[1]  # Access the pooled output (second element)\n",
        "\n",
        "    # Classification layers\n",
        "    dropout = tf.keras.layers.Dropout(0.3)(pooled_output)\n",
        "    output_layer = tf.keras.layers.Dense(num_classes, activation='softmax')(dropout)\n",
        "\n",
        "    # Define the model\n",
        "    model = tf.keras.Model(inputs=[input_ids, attention_mask], outputs=output_layer)\n",
        "\n",
        "    # Compile the model\n",
        "    model.compile(\n",
        "        optimizer=tf.keras.optimizers.Adam(learning_rate=1e-5),\n",
        "        loss='sparse_categorical_crossentropy',\n",
        "        metrics=['accuracy']\n",
        "    )\n",
        "    return model"
      ],
      "metadata": {
        "id": "Br5X3ctylRJL"
      },
      "execution_count": 130,
      "outputs": []
    },
    {
      "cell_type": "markdown",
      "source": [
        "- def build_bert_model(...): Эта строка определяет функцию с именем build_bert_model.\n",
        "- pretrained_model_name='bert-base-multilingual-cased': Здесь устанавливается используемая по умолчанию предварительно обученная модель BERT. 'bert-base-multilingual-cased' - это модель BERT, обученная на многих языках и чувствительная к регистру.\n",
        "- max_length=128: Здесь устанавливается максимальная длина текстовых последовательностей, которые модель будет обрабатывать (128 токенов).\n",
        "- num_classes=2: Это количество выходных классов для задачи классификации по умолчанию (например, положительный/отрицательный настрой).\n",
        "\n",
        "- Загрузка предварительно обученной модели BERT\n",
        "  - TFBertModel.from_pretrained(...): Эта строка загружает указанную предварительно обученную модель BERT с помощью библиотеки transformers. Эта модель будет основой для нашего классификатора текста.\n",
        "\n",
        "- tf.keras.layers.Input(...): Эти строки создают два входных слоя для модели:\n",
        "  - input_ids: Этот слой будет получать идентификаторы токенов входного текста.\n",
        "  - attention_mask: Этот слой будет указывать, на какие токены во входной последовательности следует обращать внимание\n",
        "\n",
        "- tf.keras.layers.Lambda(...): Эта строка создает пользовательский слой для применения модели BERT к входным данным. Она использует лямбда-функцию для передачи input_ids и attention_mask модели BERT.\n",
        "- pooled_output = outputs[1]: Здесь извлекается объединенный вывод из выводов модели BERT, который представляет собой сжатое представление всей входной последовательности.\n",
        "\n",
        "- tf.keras.layers.Dropout(0.3): Это добавляет слой отсева, чтобы предотвратить переобучение. Он случайным образом устанавливает 30% входных единиц в 0 во время обучения.\n",
        "- tf.keras.layers.Dense(num_classes, activation='softmax'): Это добавляет плотный (полносвязный) слой с num_classes выходными единицами и функцией активации softmax. Этот слой выдает окончательные вероятности классификации.\n",
        "\n",
        "- tf.keras.Model(...): Эта строка создает общую модель Keras, указывая входные и выходные данные.\n",
        "- model.compile(...): Это компилирует модель, настраивая ее для обучения:\n",
        "  - optimizer: Для обучения используется оптимизатор Adam.\n",
        "  - loss: 'sparse_categorical_crossentropy' - это функция потерь, подходящая для многоклассовой классификации.\n",
        "  - metrics: 'accuracy' используется для оценки производительности модели.\n",
        "\n"
      ],
      "metadata": {
        "id": "nVk7WC80nNdJ"
      }
    },
    {
      "cell_type": "markdown",
      "source": [
        "### Train the BERT"
      ],
      "metadata": {
        "id": "nEo6sYvWAVxn"
      }
    },
    {
      "cell_type": "code",
      "source": [
        "# Train the model BERT\n",
        "num_epochs = 10\n",
        "\n",
        "# Assuming 'author' is the target column in DataFrame\n",
        "# and train_data, val_data are DataFrames\n",
        "train_labels = train_data['author'].factorize()[0] # Convert author names to numerical labels\n",
        "val_labels = val_data['author'].factorize()[0]   # Convert author names to numerical labels\n",
        "\n",
        "# Update train_dataset and val_dataset to include labels\n",
        "train_dataset = tf.data.Dataset.from_tensor_slices(({\n",
        "    'input_ids': train_inputs['input_ids'],\n",
        "    'attention_mask': train_inputs['attention_mask']\n",
        "}, train_labels))  # Include labels in the dataset\n",
        "\n",
        "val_dataset = tf.data.Dataset.from_tensor_slices(({\n",
        "    'input_ids': val_inputs['input_ids'],\n",
        "    'attention_mask': val_inputs['attention_mask']\n",
        "}, val_labels))  # Include labels in the dataset\n",
        "\n",
        "# Call build_bert_model to create the model instance\n",
        "model_bert = build_bert_model(num_classes=len(train_data['author'].unique())) # Pass num_classes\n",
        "\n",
        "# Now call model.fit with the updated datasets\n",
        "history = model_bert.fit(\n",
        "    train_dataset.batch(32),  #32\n",
        "    validation_data=val_dataset.batch(32), #32\n",
        "    epochs=num_epochs\n",
        ")\n"
      ],
      "metadata": {
        "colab": {
          "base_uri": "https://localhost:8080/"
        },
        "id": "HT-MCq33_Xyf",
        "outputId": "692a46fd-4cfd-4fe3-aeef-7ba7dc53a35a"
      },
      "execution_count": 131,
      "outputs": [
        {
          "metadata": {
            "tags": null
          },
          "name": "stderr",
          "output_type": "stream",
          "text": [
            "Some weights of the PyTorch model were not used when initializing the TF 2.0 model TFBertModel: ['cls.predictions.transform.dense.weight', 'cls.predictions.transform.LayerNorm.bias', 'cls.predictions.transform.LayerNorm.weight', 'cls.predictions.transform.dense.bias', 'cls.seq_relationship.bias', 'cls.seq_relationship.weight', 'cls.predictions.bias']\n",
            "- This IS expected if you are initializing TFBertModel from a PyTorch model trained on another task or with another architecture (e.g. initializing a TFBertForSequenceClassification model from a BertForPreTraining model).\n",
            "- This IS NOT expected if you are initializing TFBertModel from a PyTorch model that you expect to be exactly identical (e.g. initializing a TFBertForSequenceClassification model from a BertForSequenceClassification model).\n",
            "All the weights of TFBertModel were initialized from the PyTorch model.\n",
            "If your task is similar to the task the model of the checkpoint was trained on, you can already use TFBertModel for predictions without further training.\n"
          ]
        },
        {
          "output_type": "stream",
          "name": "stdout",
          "text": [
            "Epoch 1/10\n",
            "\u001b[1m3/3\u001b[0m \u001b[32m━━━━━━━━━━━━━━━━━━━━\u001b[0m\u001b[37m\u001b[0m \u001b[1m104s\u001b[0m 15s/step - accuracy: 0.2887 - loss: 1.3709 - val_accuracy: 0.2500 - val_loss: 1.4498\n",
            "Epoch 2/10\n",
            "\u001b[1m3/3\u001b[0m \u001b[32m━━━━━━━━━━━━━━━━━━━━\u001b[0m\u001b[37m\u001b[0m \u001b[1m38s\u001b[0m 12s/step - accuracy: 0.2562 - loss: 1.4374 - val_accuracy: 0.2500 - val_loss: 1.4488\n",
            "Epoch 3/10\n",
            "\u001b[1m3/3\u001b[0m \u001b[32m━━━━━━━━━━━━━━━━━━━━\u001b[0m\u001b[37m\u001b[0m \u001b[1m43s\u001b[0m 13s/step - accuracy: 0.3134 - loss: 1.4392 - val_accuracy: 0.2500 - val_loss: 1.4480\n",
            "Epoch 4/10\n",
            "\u001b[1m3/3\u001b[0m \u001b[32m━━━━━━━━━━━━━━━━━━━━\u001b[0m\u001b[37m\u001b[0m \u001b[1m45s\u001b[0m 15s/step - accuracy: 0.2874 - loss: 1.4277 - val_accuracy: 0.2500 - val_loss: 1.4471\n",
            "Epoch 5/10\n",
            "\u001b[1m3/3\u001b[0m \u001b[32m━━━━━━━━━━━━━━━━━━━━\u001b[0m\u001b[37m\u001b[0m \u001b[1m41s\u001b[0m 12s/step - accuracy: 0.2536 - loss: 1.4388 - val_accuracy: 0.2500 - val_loss: 1.4463\n",
            "Epoch 6/10\n",
            "\u001b[1m3/3\u001b[0m \u001b[32m━━━━━━━━━━━━━━━━━━━━\u001b[0m\u001b[37m\u001b[0m \u001b[1m40s\u001b[0m 13s/step - accuracy: 0.1859 - loss: 1.5132 - val_accuracy: 0.2500 - val_loss: 1.4455\n",
            "Epoch 7/10\n",
            "\u001b[1m3/3\u001b[0m \u001b[32m━━━━━━━━━━━━━━━━━━━━\u001b[0m\u001b[37m\u001b[0m \u001b[1m37s\u001b[0m 12s/step - accuracy: 0.2757 - loss: 1.4851 - val_accuracy: 0.2500 - val_loss: 1.4447\n",
            "Epoch 8/10\n",
            "\u001b[1m3/3\u001b[0m \u001b[32m━━━━━━━━━━━━━━━━━━━━\u001b[0m\u001b[37m\u001b[0m \u001b[1m40s\u001b[0m 13s/step - accuracy: 0.2406 - loss: 1.5048 - val_accuracy: 0.2500 - val_loss: 1.4440\n",
            "Epoch 9/10\n",
            "\u001b[1m3/3\u001b[0m \u001b[32m━━━━━━━━━━━━━━━━━━━━\u001b[0m\u001b[37m\u001b[0m \u001b[1m38s\u001b[0m 12s/step - accuracy: 0.1821 - loss: 1.5006 - val_accuracy: 0.2500 - val_loss: 1.4432\n",
            "Epoch 10/10\n",
            "\u001b[1m3/3\u001b[0m \u001b[32m━━━━━━━━━━━━━━━━━━━━\u001b[0m\u001b[37m\u001b[0m \u001b[1m40s\u001b[0m 13s/step - accuracy: 0.2172 - loss: 1.5045 - val_accuracy: 0.2500 - val_loss: 1.4425\n"
          ]
        }
      ]
    },
    {
      "cell_type": "markdown",
      "source": [
        "### Model saved bert_text_classifier.keras"
      ],
      "metadata": {
        "id": "hrOhQ5b7VkHT"
      }
    },
    {
      "cell_type": "code",
      "source": [
        "# Save the model using the TensorFlow SavedModel format\n",
        "model_bert.save('bert_text_classifier.keras')  # Add .keras extension for the native Keras format\n",
        "print(\"\\nModel training complete and saved using SavedModel format!\")"
      ],
      "metadata": {
        "colab": {
          "base_uri": "https://localhost:8080/"
        },
        "id": "c_Ez_b7jO-sq",
        "outputId": "956e6e25-8832-445e-91dd-54556c89055f"
      },
      "execution_count": 132,
      "outputs": [
        {
          "output_type": "stream",
          "name": "stdout",
          "text": [
            "\n",
            "Model training complete and saved using SavedModel format!\n"
          ]
        }
      ]
    },
    {
      "cell_type": "code",
      "source": [
        "test_labels = test_data['author'].factorize()[0] # Convert author names to numerical labels\n",
        "\n",
        "\n",
        "# Update test_dataset to include labels\n",
        "test_dataset = tf.data.Dataset.from_tensor_slices(({\n",
        "    'input_ids': test_inputs['input_ids'],\n",
        "    'attention_mask': test_inputs['attention_mask']\n",
        "}, test_labels))  # Include labels in the dataset\n",
        "\n",
        "\n",
        "loss, accuracy = model_bert.evaluate(test_dataset.batch(32)) # Asumsikan nama dataset test 'test_dataset'\n",
        "\n",
        "print(f\"Test Loss: {loss}\")\n",
        "print(f\"Test Accuracy: {accuracy}\")"
      ],
      "metadata": {
        "colab": {
          "base_uri": "https://localhost:8080/"
        },
        "id": "j92fgreSNeFs",
        "outputId": "9446ed0e-f17c-4225-9cdc-1d65f580cd72"
      },
      "execution_count": 133,
      "outputs": [
        {
          "output_type": "stream",
          "name": "stdout",
          "text": [
            "\u001b[1m1/1\u001b[0m \u001b[32m━━━━━━━━━━━━━━━━━━━━\u001b[0m\u001b[37m\u001b[0m \u001b[1m16s\u001b[0m 16s/step - accuracy: 0.2609 - loss: 1.4542\n",
            "Test Loss: 1.4541782140731812\n",
            "Test Accuracy: 0.260869562625885\n"
          ]
        }
      ]
    },
    {
      "cell_type": "markdown",
      "source": [
        "## Data Visualization"
      ],
      "metadata": {
        "id": "-BnyrcgKPzZi"
      }
    },
    {
      "cell_type": "code",
      "source": [
        "\n",
        "# Evaluasi model pada data test\n",
        "test_labels = test_data['author'].factorize()[0]  # Convert author names to numerical labels\n",
        "\n",
        "# Update test_dataset to include labels\n",
        "test_dataset = tf.data.Dataset.from_tensor_slices(({\n",
        "    'input_ids': test_inputs['input_ids'],\n",
        "    'attention_mask': test_inputs['attention_mask']\n",
        "}, test_labels))  # Include labels in the dataset\n",
        "\n",
        "loss, accuracy = model_bert.evaluate(test_dataset.batch(32))\n",
        "print(f\"Test Loss: {loss}\")\n",
        "print(f\"Test Accuracy: {accuracy}\")\n",
        "\n",
        "# 1. Generate predictions for classification report and confusion matrix\n",
        "y_true = []\n",
        "y_pred = []\n",
        "for batch in test_dataset.batch(32):  # Use the same batch size as during evaluation\n",
        "    inputs, labels = batch\n",
        "    predictions = model_bert.predict(inputs)\n",
        "    y_true.extend(labels.numpy())\n",
        "    y_pred.extend(np.argmax(predictions, axis=1))  # Get predicted class labels\n",
        "\n",
        "# 2. Classification Report\n",
        "print(\"\\nClassification Report:\")\n",
        "print(classification_report(y_true, y_pred, target_names=train_data['author'].unique()))\n"
      ],
      "metadata": {
        "colab": {
          "base_uri": "https://localhost:8080/"
        },
        "id": "LQ8Q8PVtNis3",
        "outputId": "fe7bc547-31bf-41b0-826b-a2fff7918e4d"
      },
      "execution_count": 25,
      "outputs": [
        {
          "output_type": "stream",
          "name": "stdout",
          "text": [
            "\u001b[1m1/1\u001b[0m \u001b[32m━━━━━━━━━━━━━━━━━━━━\u001b[0m\u001b[37m\u001b[0m \u001b[1m14s\u001b[0m 14s/step - accuracy: 0.2857 - loss: 1.4105\n",
            "Test Loss: 1.4104853868484497\n",
            "Test Accuracy: 0.2857142984867096\n",
            "\u001b[1m1/1\u001b[0m \u001b[32m━━━━━━━━━━━━━━━━━━━━\u001b[0m\u001b[37m\u001b[0m \u001b[1m13s\u001b[0m 13s/step\n",
            "\n",
            "Classification Report:\n",
            "                precision    recall  f1-score   support\n",
            "\n",
            " Некрасов Н.А.       0.00      0.00      0.00         5\n",
            "   Тютчев Ф.И.       0.00      0.00      0.00         5\n",
            "Лермонтов М.Ю.       0.29      1.00      0.44         6\n",
            "   Есенин С.А.       0.00      0.00      0.00         5\n",
            "\n",
            "      accuracy                           0.29        21\n",
            "     macro avg       0.07      0.25      0.11        21\n",
            "  weighted avg       0.08      0.29      0.13        21\n",
            "\n"
          ]
        },
        {
          "output_type": "stream",
          "name": "stderr",
          "text": [
            "/usr/local/lib/python3.11/dist-packages/sklearn/metrics/_classification.py:1565: UndefinedMetricWarning: Precision is ill-defined and being set to 0.0 in labels with no predicted samples. Use `zero_division` parameter to control this behavior.\n",
            "  _warn_prf(average, modifier, f\"{metric.capitalize()} is\", len(result))\n",
            "/usr/local/lib/python3.11/dist-packages/sklearn/metrics/_classification.py:1565: UndefinedMetricWarning: Precision is ill-defined and being set to 0.0 in labels with no predicted samples. Use `zero_division` parameter to control this behavior.\n",
            "  _warn_prf(average, modifier, f\"{metric.capitalize()} is\", len(result))\n",
            "/usr/local/lib/python3.11/dist-packages/sklearn/metrics/_classification.py:1565: UndefinedMetricWarning: Precision is ill-defined and being set to 0.0 in labels with no predicted samples. Use `zero_division` parameter to control this behavior.\n",
            "  _warn_prf(average, modifier, f\"{metric.capitalize()} is\", len(result))\n"
          ]
        }
      ]
    },
    {
      "cell_type": "markdown",
      "source": [
        "### Confusion matrix"
      ],
      "metadata": {
        "id": "GiQe-0MgP88F"
      }
    },
    {
      "cell_type": "code",
      "source": [
        "# 3. Confusion Matrix\n",
        "conf_matrix = confusion_matrix(y_true, y_pred)\n",
        "\n",
        "# Plot the confusion matrix\n",
        "plt.figure(figsize=(10, 8))\n",
        "sns.heatmap(conf_matrix, annot=True, fmt=\"d\", cmap=\"Blues\",\n",
        "            xticklabels=train_data['author'].unique(),\n",
        "            yticklabels=train_data['author'].unique())\n",
        "plt.title(\"Confusion Matrix\")\n",
        "plt.xlabel(\"Predicted Labels\")\n",
        "plt.ylabel(\"True Labels\")\n",
        "plt.show()\n"
      ],
      "metadata": {
        "colab": {
          "base_uri": "https://localhost:8080/",
          "height": 718
        },
        "id": "nJY6VBUiP7yY",
        "outputId": "40e19f35-f414-490a-d0a8-654457ef58e2"
      },
      "execution_count": 26,
      "outputs": [
        {
          "output_type": "display_data",
          "data": {
            "text/plain": [
              "<Figure size 1000x800 with 2 Axes>"
            ],
            "image/png": "[encoded data removed]"
          },
          "metadata": {}
        }
      ]
    },
    {
      "cell_type": "code",
      "source": [
        "# 4. Akurasi dan Loss selama training (jika history tersedia)\n",
        "if history:  # Check if history object is available\n",
        "    plt.figure(figsize=(12, 4))\n",
        "\n",
        "    # Plot Akurasi\n",
        "    plt.subplot(1, 2, 1)\n",
        "    plt.plot(history.history['accuracy'], label='Training Accuracy')\n",
        "    plt.plot(history.history['val_accuracy'], label='Validation Accuracy')\n",
        "    plt.title('Model accuracy')\n",
        "    plt.ylabel('Accuracy')\n",
        "    plt.xlabel('Epoch')\n",
        "    plt.legend(loc='lower right')\n",
        "    plt.tight_layout()\n",
        "\n",
        "    # Plot Loss\n",
        "    plt.subplot(1, 2, 2)\n",
        "    plt.plot(history.history['loss'], label='Training Loss')\n",
        "    plt.plot(history.history['val_loss'], label='Validation Loss')\n",
        "    plt.title('Model loss')\n",
        "    plt.ylabel('Loss')\n",
        "    plt.xlabel('Epoch')\n",
        "    plt.legend(loc='upper right')\n",
        "\n",
        "    plt.tight_layout()\n",
        "    plt.show()"
      ],
      "metadata": {
        "colab": {
          "base_uri": "https://localhost:8080/",
          "height": 406
        },
        "id": "A7A5MD8sSNGX",
        "outputId": "5b7da4e9-fc32-4efc-9fef-db56d9262690"
      },
      "execution_count": 27,
      "outputs": [
        {
          "output_type": "display_data",
          "data": {
            "text/plain": [
              "<Figure size 1200x400 with 2 Axes>"
            ],
            "image/png": "[encoded data removed]"
          },
          "metadata": {}
        }
      ]
    },
    {
      "cell_type": "code",
      "source": [
        "# 4. Akurasi dan Loss selama training (jika history tersedia)\n",
        "if history:  # Check if history object is available\n",
        "    plt.figure(figsize=(12, 4))\n",
        "\n",
        "    # Plot Akurasi\n",
        "    plt.subplot(1, 2, 1)\n",
        "    plt.plot(history.history['accuracy'], label='Training Accuracy')\n",
        "    plt.plot(history.history['val_accuracy'], label='Validation Accuracy')\n",
        "    plt.title('Model accuracy')\n",
        "    plt.ylabel('Accuracy')\n",
        "    plt.xlabel('Epoch')\n",
        "    plt.legend(loc='lower right')\n",
        "    plt.tight_layout()\n",
        "\n",
        "    # Plot Loss\n",
        "    plt.subplot(1, 2, 2)\n",
        "    plt.plot(history.history['loss'], label='Training Loss')\n",
        "    plt.plot(history.history['val_loss'], label='Validation Loss')\n",
        "    plt.title('Model loss')\n",
        "    plt.ylabel('Loss')\n",
        "    plt.xlabel('Epoch')\n",
        "    plt.legend(loc='upper right')\n",
        "\n",
        "    plt.tight_layout()\n",
        "    plt.show()"
      ],
      "metadata": {
        "colab": {
          "base_uri": "https://localhost:8080/",
          "height": 406
        },
        "id": "gUSTtUu5AZ-X",
        "outputId": "24e97d38-a746-4033-94f6-e68de962094c"
      },
      "execution_count": 134,
      "outputs": [
        {
          "output_type": "display_data",
          "data": {
            "text/plain": [
              "<Figure size 1200x400 with 2 Axes>"
            ],
            "image/png": "[encoded data removed]"
          },
          "metadata": {}
        }
      ]
    },
    {
      "cell_type": "markdown",
      "source": [
        "# ===================================================="
      ],
      "metadata": {
        "id": "mNZUWZFLWOez"
      }
    },
    {
      "cell_type": "markdown",
      "source": [
        "#Stacked LSTM Model"
      ],
      "metadata": {
        "id": "zra5BlJQA-SB"
      }
    },
    {
      "cell_type": "code",
      "source": [
        "from tensorflow.keras.regularizers import l2\n",
        "# Step 1: Define the Stacked LSTM Model\n",
        "vocab_size= tokenizer.vocab_size\n",
        "\n",
        "stacked_lstm_model = Sequential([\n",
        "    # output_dim=128, input_length=128\n",
        "    Embedding(input_dim=vocab_size, output_dim=256, input_length= 256),  # input_dim: vocab size, output_dim: embedding dim\n",
        "    LSTM(256, return_sequences=True),  # 128\n",
        "    # Dropout(0.2),\n",
        "    LSTM(64),  # 64\n",
        "    Dropout(0.2),\n",
        "    Dense(64, activation='relu', kernel_regularizer=l2(0.1)),    # 32\n",
        "    Dense(1, activation='sigmoid')  # Binary classification output\n",
        "])"
      ],
      "metadata": {
        "colab": {
          "base_uri": "https://localhost:8080/"
        },
        "id": "tpF0BhgzAZb0",
        "outputId": "046557ce-337c-42de-f7db-6ea2731a59c2"
      },
      "execution_count": 181,
      "outputs": [
        {
          "output_type": "stream",
          "name": "stderr",
          "text": [
            "/usr/local/lib/python3.11/dist-packages/keras/src/layers/core/embedding.py:90: UserWarning: Argument `input_length` is deprecated. Just remove it.\n",
            "  warnings.warn(\n"
          ]
        }
      ]
    },
    {
      "cell_type": "markdown",
      "source": [
        "- vocab_size = tokenizer.vocab_size: Эта строка получает размер словаря из tokenizer, который вы загрузили ранее (вероятно, токенизатор BERT). Это важно для слоя Embedding.\n",
        "- stacked_lstm_model = Sequential(...): Это создает Sequential модель в Keras. Последовательная модель - это линейный стек слоев, где данные текут от одного слоя к другому.\n",
        "\n",
        "- Слои внутри модели:\n",
        "  - Embedding(input_dim=vocab_size, output_dim=128, input_length=128): Это первый слой модели. Он преобразует слова (представленные как целые числа) в плотные векторы (эмбеддинги) размером 128.\n",
        "    - input_dim: Устанавливает размер словаря.\n",
        "    - output_dim: Устанавливает размерность словесных эмбеддингов (128 в данном случае).\n",
        "    - input_length: Устанавливает максимальную длину входных последовательностей (128 токенов).\n",
        "\n",
        "  - LSTM(128, return_sequences=True): Это первый слой Long Short-Term Memory (LSTM). LSTM - это тип рекуррентной нейронной сети, которая хорошо обрабатывает последовательные данные, такие как текст.\n",
        "    - 128: Количество единиц (или ячеек памяти) в слое LSTM.\n",
        "    - return_sequences=True: Это установлено, потому что мы накладываем еще один LSTM поверх этого. Это говорит слою выводить полную последовательность скрытых состояний.\n",
        "  - Dropout(0.2): Слой Dropout добавляется для предотвращения переобучения. Он случайным образом устанавливает 20% входных данных в 0 во время обучения.\n",
        "  - LSTM(64): Это второй слой LSTM. Он имеет 64 единицы. Обратите внимание, что return_sequences здесь не установлен в True, поскольку это последний слой LSTM.\n",
        "  - Dense(32, activation='relu', kernel_regularizer=l2(0.01)): Это полносвязный (Dense) слой с 32 единицами.\n",
        "    - activation='relu': Использует функцию активации ReLU (Rectified Linear Unit).\n",
        "    - kernel_regularizer=l2(0.01): Применяет L2 регуляризацию к весам этого слоя с силой регуляризации 0.01.\n",
        "  - Dense(1, activation='sigmoid'): Это выходной слой. Он имеет одну единицу с сигмоидной функцией активации, которая подходит для задач бинарной классификации (выдает вероятность между 0 и 1).\n",
        "\n",
        "  "
      ],
      "metadata": {
        "id": "9eAwJcaaoYwU"
      }
    },
    {
      "cell_type": "code",
      "source": [
        "optimizer = tf.keras.optimizers.Adam(learning_rate=0.0001)  # Adjust the learning rate\n",
        "stacked_lstm_model.compile(\n",
        "       optimizer=optimizer,\n",
        "       loss='binary_crossentropy',\n",
        "       metrics=['accuracy'])"
      ],
      "metadata": {
        "id": "ldfTO_BxIFci"
      },
      "execution_count": 182,
      "outputs": []
    },
    {
      "cell_type": "markdown",
      "source": [
        "- Выбор оптимизатора:\n",
        "  - Первая строка, которая закомментирована, изначально устанавливала optimizer в tf.keras.optimizers.Adam со learning_rate (скоростью обучения) равной 1e-4 (0.0001).\n",
        "  - Вторая строка, которая активна, обновляет optimizer, чтобы использовать тот же оптимизатор Adam, но с более низкой learning_rate, равной 1e-5 (0.00001).\n",
        "  - Adam: Это популярный алгоритм оптимизации, используемый в глубоком обучении. Он известен своей эффективностью и способностью адаптировать скорость обучения для отдельных параметров.\n",
        "  - learning_rate: (скорость обучения) Контролирует, насколько веса модели корректируются на каждом шаге обучения. Более низкая скорость обучения может привести к более медленному, но более стабильному обучению.\n",
        "\n",
        "- Компиляция модели:\n",
        "  - stacked_lstm_model.compile(...): Эта строка имеет решающее значение, поскольку она завершает настройку модели для обучения.\n",
        "  - optimizer=optimizer: Мы указываем модели использовать оптимизатор Adam, который мы определили ранее.\n",
        "  - loss='binary_crossentropy': (функция потерь) Здесь указывается функция потерь, которую модель будет использовать для измерения своих ошибок во время обучения. binary_crossentropy обычно используется для задач бинарной классификации (где есть два возможных выходных класса).\n",
        "  - metrics=['accuracy']: (метрики) Здесь мы указываем модели отслеживать и сообщать о своей accuracy (точности) во время обучения. Точность - это распространенная метрика для оценки моделей классификации."
      ],
      "metadata": {
        "id": "vZFrpj_grKye"
      }
    },
    {
      "cell_type": "code",
      "source": [
        "# Step 2: Adjust Datasets to Provide Correct Input Format for LSTM\n",
        "def map_lstm_inputs(inputs, labels): # Add labels as input\n",
        "    return inputs['input_ids'], labels  # Use only 'input_ids' for LSTM, reshape as needed\n",
        "\n",
        "num_batch = 64\n",
        "\n",
        "# Access labels correctly during dataset creation\n",
        "train_dataset_lstm = tf.data.Dataset.from_tensor_slices((\n",
        "    {'input_ids': train_inputs['input_ids']}, # Dictionary for inputs\n",
        "    train_data['author'].factorize()[0] # Labels as a separate argument\n",
        ")).map(map_lstm_inputs).padded_batch(num_batch).prefetch(tf.data.AUTOTUNE)   # 32\n",
        "\n",
        "val_dataset_lstm = tf.data.Dataset.from_tensor_slices((\n",
        "    {'input_ids': val_inputs['input_ids']},\n",
        "    val_data['author'].factorize()[0]\n",
        ")).map(map_lstm_inputs).padded_batch(num_batch).prefetch(tf.data.AUTOTUNE)  # 32\n",
        "\n",
        "# Create test_dataset_lstm similar to train_dataset_lstm and val_dataset_lstm\n",
        "test_dataset_lstm = tf.data.Dataset.from_tensor_slices((\n",
        "    {'input_ids': test_inputs['input_ids']},\n",
        "    test_data['author'].factorize()[0]\n",
        ")).map(map_lstm_inputs).padded_batch(num_batch).prefetch(tf.data.AUTOTUNE)  # 32"
      ],
      "metadata": {
        "id": "QEkHRWlOIGty"
      },
      "execution_count": 183,
      "outputs": []
    },
    {
      "cell_type": "markdown",
      "source": [
        "- Функция map_lstm_inputs:\n",
        "  - Эта функция принимает два аргумента: inputs (словарь, содержащий токенизированные входные идентификаторы) и labels (соответствующие метки авторов).\n",
        "  - Она извлекает input_ids из словаря inputs. Эти input_ids представляют собой числовое представление текстовых данных после токенизации.\n",
        "  - Затем она возвращает input_ids и labels в виде кортежа, что является ожидаемым форматом для модели LSTM.\n",
        "\n",
        "- Создание train_dataset_lstm, val_dataset_lstm и test_dataset_lstm:\n",
        "  - Аналогичный код используется для создания val_dataset_lstm и test_dataset_lstm с использованием соответствующих данных. Давайте рассмотрим пример train_dataset_lstm:\n",
        "    - tf.data.Dataset.from_tensor_slices: Это создает объект TensorFlow Dataset из обучающих данных (train_inputs и train_data).\n",
        "    - {'input_ids': train_inputs['input_ids']}: Это предоставляет входные признаки (токенизированные входные идентификаторы) набору данных.\n",
        "    - train_data['author'].factorize()[0]: Это извлекает целевые метки (имена авторов) и преобразует их в числовые представления с помощью factorize().\n",
        "    - .map(map_lstm_inputs): Это применяет функцию map_lstm_inputs к каждому элементу набора данных, извлекая input_ids и метки, как требуется модели LSTM.\n",
        "    - .padded_batch(32): Это группирует набор данных в пакеты по 32 образца. Добавляется заполнение, чтобы все последовательности в пакете имели одинаковую длину.\n",
        "    - .prefetch(tf.data.AUTOTUNE): Это оптимизирует загрузку данных для более быстрого обучения. Он предварительно загружает данные в фоновом режиме, пока модель обучается на текущем пакете.\n"
      ],
      "metadata": {
        "id": "MuOBf_a6r_iw"
      }
    },
    {
      "cell_type": "markdown",
      "source": [
        "### Train the Stacked LSTM Model"
      ],
      "metadata": {
        "id": "_Q6c4TJaBR4T"
      }
    },
    {
      "cell_type": "code",
      "source": [
        "history = stacked_lstm_model.fit(\n",
        "    train_dataset_lstm,\n",
        "    validation_data=val_dataset_lstm,\n",
        "    epochs=20,\n",
        "    batch_size=32  # 32\n",
        ")"
      ],
      "metadata": {
        "colab": {
          "base_uri": "https://localhost:8080/"
        },
        "id": "ly7qqD1OBOj2",
        "outputId": "cfe1e08f-1f5d-4d0e-c886-bf8ab1ba9a21"
      },
      "execution_count": 44,
      "outputs": [
        {
          "output_type": "stream",
          "name": "stdout",
          "text": [
            "Epoch 1/20\n",
            "\u001b[1m2/2\u001b[0m \u001b[32m━━━━━━━━━━━━━━━━━━━━\u001b[0m\u001b[37m\u001b[0m \u001b[1m11s\u001b[0m 1s/step - accuracy: 0.2355 - loss: 1.3422 - val_accuracy: 0.0000e+00 - val_loss: 1.3416\n",
            "Epoch 2/20\n",
            "\u001b[1m2/2\u001b[0m \u001b[32m━━━━━━━━━━━━━━━━━━━━\u001b[0m\u001b[37m\u001b[0m \u001b[1m2s\u001b[0m 852ms/step - accuracy: 0.2789 - loss: 1.3419 - val_accuracy: 0.0909 - val_loss: 1.3408\n",
            "Epoch 3/20\n",
            "\u001b[1m2/2\u001b[0m \u001b[32m━━━━━━━━━━━━━━━━━━━━\u001b[0m\u001b[37m\u001b[0m \u001b[1m2s\u001b[0m 838ms/step - accuracy: 0.2211 - loss: 1.3411 - val_accuracy: 0.0909 - val_loss: 1.3400\n",
            "Epoch 4/20\n",
            "\u001b[1m2/2\u001b[0m \u001b[32m━━━━━━━━━━━━━━━━━━━━\u001b[0m\u001b[37m\u001b[0m \u001b[1m3s\u001b[0m 840ms/step - accuracy: 0.2355 - loss: 1.3400 - val_accuracy: 0.0909 - val_loss: 1.3393\n",
            "Epoch 5/20\n",
            "\u001b[1m2/2\u001b[0m \u001b[32m━━━━━━━━━━━━━━━━━━━━\u001b[0m\u001b[37m\u001b[0m \u001b[1m3s\u001b[0m 1s/step - accuracy: 0.2500 - loss: 1.3401 - val_accuracy: 0.0909 - val_loss: 1.3385\n",
            "Epoch 6/20\n",
            "\u001b[1m2/2\u001b[0m \u001b[32m━━━━━━━━━━━━━━━━━━━━\u001b[0m\u001b[37m\u001b[0m \u001b[1m5s\u001b[0m 842ms/step - accuracy: 0.2355 - loss: 1.3390 - val_accuracy: 0.1818 - val_loss: 1.3378\n",
            "Epoch 7/20\n",
            "\u001b[1m2/2\u001b[0m \u001b[32m━━━━━━━━━━━━━━━━━━━━\u001b[0m\u001b[37m\u001b[0m \u001b[1m3s\u001b[0m 886ms/step - accuracy: 0.2118 - loss: 1.3367 - val_accuracy: 0.1818 - val_loss: 1.3370\n",
            "Epoch 8/20\n",
            "\u001b[1m2/2\u001b[0m \u001b[32m━━━━━━━━━━━━━━━━━━━━\u001b[0m\u001b[37m\u001b[0m \u001b[1m3s\u001b[0m 844ms/step - accuracy: 0.2355 - loss: 1.3364 - val_accuracy: 0.1818 - val_loss: 1.3363\n",
            "Epoch 9/20\n",
            "\u001b[1m2/2\u001b[0m \u001b[32m━━━━━━━━━━━━━━━━━━━━\u001b[0m\u001b[37m\u001b[0m \u001b[1m3s\u001b[0m 999ms/step - accuracy: 0.2593 - loss: 1.3353 - val_accuracy: 0.1818 - val_loss: 1.3355\n",
            "Epoch 10/20\n",
            "\u001b[1m2/2\u001b[0m \u001b[32m━━━━━━━━━━━━━━━━━━━━\u001b[0m\u001b[37m\u001b[0m \u001b[1m4s\u001b[0m 1s/step - accuracy: 0.2500 - loss: 1.3336 - val_accuracy: 0.2727 - val_loss: 1.3348\n",
            "Epoch 11/20\n",
            "\u001b[1m2/2\u001b[0m \u001b[32m━━━━━━━━━━━━━━━━━━━━\u001b[0m\u001b[37m\u001b[0m \u001b[1m4s\u001b[0m 832ms/step - accuracy: 0.2355 - loss: 1.3335 - val_accuracy: 0.2727 - val_loss: 1.3341\n",
            "Epoch 12/20\n",
            "\u001b[1m2/2\u001b[0m \u001b[32m━━━━━━━━━━━━━━━━━━━━\u001b[0m\u001b[37m\u001b[0m \u001b[1m2s\u001b[0m 842ms/step - accuracy: 0.2500 - loss: 1.3333 - val_accuracy: 0.2727 - val_loss: 1.3333\n",
            "Epoch 13/20\n",
            "\u001b[1m2/2\u001b[0m \u001b[32m━━━━━━━━━━━━━━━━━━━━\u001b[0m\u001b[37m\u001b[0m \u001b[1m2s\u001b[0m 833ms/step - accuracy: 0.2211 - loss: 1.3318 - val_accuracy: 0.2727 - val_loss: 1.3325\n",
            "Epoch 14/20\n",
            "\u001b[1m2/2\u001b[0m \u001b[32m━━━━━━━━━━━━━━━━━━━━\u001b[0m\u001b[37m\u001b[0m \u001b[1m3s\u001b[0m 902ms/step - accuracy: 0.2303 - loss: 1.3314 - val_accuracy: 0.2727 - val_loss: 1.3318\n",
            "Epoch 15/20\n",
            "\u001b[1m2/2\u001b[0m \u001b[32m━━━━━━━━━━━━━━━━━━━━\u001b[0m\u001b[37m\u001b[0m \u001b[1m3s\u001b[0m 1s/step - accuracy: 0.2355 - loss: 1.3302 - val_accuracy: 0.2727 - val_loss: 1.3310\n",
            "Epoch 16/20\n",
            "\u001b[1m2/2\u001b[0m \u001b[32m━━━━━━━━━━━━━━━━━━━━\u001b[0m\u001b[37m\u001b[0m \u001b[1m3s\u001b[0m 853ms/step - accuracy: 0.2500 - loss: 1.3290 - val_accuracy: 0.2727 - val_loss: 1.3302\n",
            "Epoch 17/20\n",
            "\u001b[1m2/2\u001b[0m \u001b[32m━━━━━━━━━━━━━━━━━━━━\u001b[0m\u001b[37m\u001b[0m \u001b[1m2s\u001b[0m 835ms/step - accuracy: 0.2211 - loss: 1.3279 - val_accuracy: 0.2727 - val_loss: 1.3294\n",
            "Epoch 18/20\n",
            "\u001b[1m2/2\u001b[0m \u001b[32m━━━━━━━━━━━━━━━━━━━━\u001b[0m\u001b[37m\u001b[0m \u001b[1m2s\u001b[0m 840ms/step - accuracy: 0.2645 - loss: 1.3264 - val_accuracy: 0.2727 - val_loss: 1.3286\n",
            "Epoch 19/20\n",
            "\u001b[1m2/2\u001b[0m \u001b[32m━━━━━━━━━━━━━━━━━━━━\u001b[0m\u001b[37m\u001b[0m \u001b[1m2s\u001b[0m 848ms/step - accuracy: 0.2500 - loss: 1.3264 - val_accuracy: 0.2727 - val_loss: 1.3278\n",
            "Epoch 20/20\n",
            "\u001b[1m2/2\u001b[0m \u001b[32m━━━━━━━━━━━━━━━━━━━━\u001b[0m\u001b[37m\u001b[0m \u001b[1m3s\u001b[0m 918ms/step - accuracy: 0.2500 - loss: 1.3242 - val_accuracy: 0.2727 - val_loss: 1.3270\n"
          ]
        }
      ]
    },
    {
      "cell_type": "code",
      "source": [
        "from sklearn.metrics import accuracy_score, precision_score, recall_score, f1_score, confusion_matrix\n",
        "\n",
        "# Menghitung precision\n",
        "precision = precision_score(y_true, y_pred, average='weighted')\n",
        "print(\"Precision:\", precision)\n",
        "\n",
        "# Menghitung recall\n",
        "recall = recall_score(y_true, y_pred, average='weighted')\n",
        "print(\"Recall:\", recall)\n",
        "\n",
        "# Menghitung F1-score\n",
        "f1 = f1_score(y_true, y_pred, average='weighted')\n",
        "print(\"F1-score:\", f1)\n",
        "print()\n"
      ],
      "metadata": {
        "colab": {
          "base_uri": "https://localhost:8080/"
        },
        "id": "E7pd81pQBW_x",
        "outputId": "2e59bc25-073a-44dd-bdf5-4cc5ab767b7d"
      },
      "execution_count": 45,
      "outputs": [
        {
          "output_type": "stream",
          "name": "stdout",
          "text": [
            "Precision: 0.08163265306122448\n",
            "Recall: 0.2857142857142857\n",
            "F1-score: 0.12698412698412698\n",
            "\n"
          ]
        },
        {
          "output_type": "stream",
          "name": "stderr",
          "text": [
            "/usr/local/lib/python3.11/dist-packages/sklearn/metrics/_classification.py:1565: UndefinedMetricWarning: Precision is ill-defined and being set to 0.0 in labels with no predicted samples. Use `zero_division` parameter to control this behavior.\n",
            "  _warn_prf(average, modifier, f\"{metric.capitalize()} is\", len(result))\n"
          ]
        }
      ]
    },
    {
      "cell_type": "markdown",
      "source": [
        "### Evaluate the model"
      ],
      "metadata": {
        "id": "va0za3DMFWPR"
      }
    },
    {
      "cell_type": "code",
      "source": [
        "\n",
        "# Plot loss\n",
        "plt.plot(history.history['loss'])\n",
        "plt.plot(history.history['val_loss'])\n",
        "plt.title('Model loss')\n",
        "plt.ylabel('Loss')\n",
        "plt.xlabel('Epoch')\n",
        "plt.legend(['Train', 'Val'], loc='upper right')\n",
        "plt.show()\n",
        "\n",
        "# Plot accuracy\n",
        "plt.plot(history.history['accuracy'])\n",
        "plt.plot(history.history['val_accuracy'])\n",
        "plt.title('Model accuracy')\n",
        "plt.ylabel('Accuracy')\n",
        "plt.xlabel('Epoch')\n",
        "plt.legend(['Train', 'Val'], loc='upper left')\n",
        "plt.show()"
      ],
      "metadata": {
        "colab": {
          "base_uri": "https://localhost:8080/",
          "height": 927
        },
        "id": "L0qED4WYhjk4",
        "outputId": "bcdbf07a-8251-4d17-c35e-0b15c46a96a0"
      },
      "execution_count": 46,
      "outputs": [
        {
          "output_type": "display_data",
          "data": {
            "text/plain": [
              "<Figure size 640x480 with 1 Axes>"
            ],
            "image/png": "[encoded data removed]"
          },
          "metadata": {}
        },
        {
          "output_type": "display_data",
          "data": {
            "text/plain": [
              "<Figure size 640x480 with 1 Axes>"
            ],
            "image/png": "[encoded data removed]"
          },
          "metadata": {}
        }
      ]
    },
    {
      "cell_type": "markdown",
      "source": [
        "###  model saved stacked_lstm_model.h5"
      ],
      "metadata": {
        "id": "j-WmGElnVf2B"
      }
    },
    {
      "cell_type": "code",
      "source": [
        "# Save the model using the TensorFlow SavedModel format\n",
        "stacked_lstm_model.save('stacked_lstm_model.h5')  # Add .keras extension for the native Keras format\n",
        "print(\"\\nModel training complete and saved using SavedModel format!\")\n",
        "\n",
        "# # THIS IS HOW TO LOAD THE SAVED MODEL OF BERT\n",
        "\n",
        "# # Load the saved model\n",
        "# loaded_model = tf.keras.models.load_model('bert_text_classifier.keras')"
      ],
      "metadata": {
        "colab": {
          "base_uri": "https://localhost:8080/"
        },
        "id": "TArXp68OSo35",
        "outputId": "ae4b35e9-47e5-416b-98b0-68a3eea98610"
      },
      "execution_count": 47,
      "outputs": [
        {
          "output_type": "stream",
          "name": "stderr",
          "text": [
            "WARNING:absl:You are saving your model as an HDF5 file via `model.save()` or `keras.saving.save_model(model)`. This file format is considered legacy. We recommend using instead the native Keras format, e.g. `model.save('my_model.keras')` or `keras.saving.save_model(model, 'my_model.keras')`. \n"
          ]
        },
        {
          "output_type": "stream",
          "name": "stdout",
          "text": [
            "\n",
            "Model training complete and saved using SavedModel format!\n"
          ]
        }
      ]
    },
    {
      "cell_type": "markdown",
      "source": [
        "#====================================="
      ],
      "metadata": {
        "id": "DqdK4yLnmbN0"
      }
    },
    {
      "cell_type": "markdown",
      "source": [
        "# Bidirectional LSTM Model"
      ],
      "metadata": {
        "id": "yp4EK0_umck4"
      }
    },
    {
      "cell_type": "code",
      "source": [
        "# step 1: define the bidirectional LSTM model\n",
        "def create_bilstm_model(vocab_size, embedding_dim, max_seq_len, num_classes):\n",
        "    model= tf.keras.Sequential([\n",
        "        tf.keras.layers.Embedding(input_dim=vocab_size,\n",
        "                                  output_dim=embedding_dim,\n",
        "                                  input_length=max_seq_len),\n",
        "        tf.keras.layers.Bidirectional(\n",
        "            tf.keras.layers.LSTM(256, return_sequences=False)),\n",
        "        # tf.keras.layers.Dropout(0.2),\n",
        "        tf.keras.layers.Dense(256,\n",
        "                              activation='relu',\n",
        "                              kernel_regularizer= tf.keras.regularizers.l2(0.01)),  # 0.01\n",
        "        tf.keras.layers.Dropout(.4,) , # .5\n",
        "        tf.keras.layers.Dense(num_classes, activation='softmax')\n",
        "    ])\n",
        "    return model\n",
        "\n",
        "max_seq_len= 256\n",
        "\n",
        "# initialize the bi-LSTM model\n",
        "# Assuming 'tokenizer' is BertTokenizer instance\n",
        "label_encoder= LabelEncoder()\n",
        "label_encoder.fit(train_data['author']) # fit on the training data\n",
        "\n",
        "bilstm_model = create_bilstm_model(\n",
        "    vocab_size=tokenizer.vocab_size,  # Use tokenizer.vocab_size instead of word_index\n",
        "    embedding_dim=256,\n",
        "    max_seq_len=max_seq_len,  # Make sure max_seq_len is defined\n",
        "    num_classes=len(label_encoder.classes_)  # Assuming label_encoder is defined\n",
        ")"
      ],
      "metadata": {
        "colab": {
          "base_uri": "https://localhost:8080/"
        },
        "id": "lwwjkf0H22_C",
        "outputId": "7c442ca2-fad0-4f11-d8df-147d736c1f27"
      },
      "execution_count": 152,
      "outputs": [
        {
          "output_type": "stream",
          "name": "stderr",
          "text": [
            "/usr/local/lib/python3.11/dist-packages/keras/src/layers/core/embedding.py:90: UserWarning: Argument `input_length` is deprecated. Just remove it.\n",
            "  warnings.warn(\n"
          ]
        }
      ]
    },
    {
      "cell_type": "markdown",
      "source": [
        "- Функция create_bilstm_model: Эта функция является шаблоном для создания BiLSTM модели. Она принимает ключевые параметры, такие как vocab_size (количество уникальных слов в словаре), embedding_dim (размер словесных эмбеддингов), max_seq_len (максимальная длина входных текстовых последовательностей) и num_classes (количество категорий, на которые классифицируете).\n",
        "\n",
        "- tf.keras.Sequential: Это указывает, что мы строим модель, в которой слои укладываются последовательно - выход одного слоя становится входом для следующего.\n",
        "\n",
        "- tf.keras.layers.Embedding: Это первый слой, отвечающий за создание словесных эмбеддингов. Он преобразует слова в числовые векторы, которые отражают их смысл.\n",
        "  - input_dim: Установлен в vocab_size.\n",
        "  - output_dim: Установлен в embedding_dim, определяя размер векторов эмбеддинга.\n",
        "  - input_length: Установлен в max_seq_len, указывая ожидаемую длину входных последовательностей.\n",
        "\n",
        "- tf.keras.layers.Bidirectional(tf.keras.layers.LSTM(...)): Это ядро BiLSTM модели.\n",
        "  - Bidirectional: Этот оберточный слой заставляет LSTM обрабатывать входную последовательность как в прямом, так и в обратном направлении, захватывая контекстную информацию с обеих сторон.\n",
        "  - LSTM(256, return_sequences=False): Слой LSTM с 256 единицами. return_sequences=False означает, что он выводит только конечное скрытое состояние LSTM.\n",
        "\n",
        "- tf.keras.layers.Dense(256, activation='relu', ...): Полносвязный слой с 256 единицами и функцией активации ReLU. Он обрабатывает выходные данные слоя BiLSTM. kernel_regularizer применяет L2 регуляризацию для предотвращения переобучения.\n",
        "\n",
        "- tf.keras.layers.Dropout(.5): Слой отсева, который случайным образом устанавливает 50% входных единиц в 0 во время обучения, дополнительно помогая предотвратить переобучение.\n",
        "\n",
        "- tf.keras.layers.Dense(num_classes, activation='softmax'): Финальный выходной слой. Он имеет num_classes единиц и использует функцию активации softmax для создания распределения вероятностей по классам.\n",
        "\n",
        "- return model: Функция возвращает построенную модель.\n",
        "\n",
        "- max_seq_len = 256: Устанавливает максимальную длину последовательности в 256 токенов.\n",
        "- label_encoder = LabelEncoder(): Создает объект LabelEncoder для преобразования текстовых меток (имен авторов) в числовые представления.\n",
        "- label_encoder.fit(train_data['author']): Обучает LabelEncoder на именах авторов в обучающих данных, изучая уникальные метки.\n",
        "- bilstm_model = create_bilstm_model(...): Здесь фактически создаете экземпляр BiLSTM модели, используя функцию create_bilstm_model.  предоставляете необходимые параметры:\n",
        "  - vocab_size: Получен из размера словаря токенизатора BERT.\n",
        "  - embedding_dim: Установлен в 256.\n",
        "  - max_seq_len: Использует переменную max_seq_len (256).\n",
        "  - num_classes: Определяется количеством уникальных меток авторов, изученных LabelEncoder."
      ],
      "metadata": {
        "id": "92lwKJ63cFm1"
      }
    },
    {
      "cell_type": "code",
      "source": [
        "# step 2: compile the model\n",
        "bilstm_model.compile(\n",
        "    optimizer= tf.keras.optimizers.Adam(learning_rate=0.0001), # 0.0001\n",
        "    loss= tf.keras.losses.SparseCategoricalCrossentropy(),\n",
        "    metrics=['accuracy']\n",
        "    )\n",
        "\n",
        "# display the model summary\n",
        "bilstm_model.summary()"
      ],
      "metadata": {
        "colab": {
          "base_uri": "https://localhost:8080/",
          "height": 289
        },
        "id": "Q9GLBQxWmUsx",
        "outputId": "71d3bfaa-ba77-4bb4-a3e0-5f1838f5f0c9"
      },
      "execution_count": 153,
      "outputs": [
        {
          "output_type": "display_data",
          "data": {
            "text/plain": [
              "\u001b[1mModel: \"sequential_8\"\u001b[0m\n"
            ],
            "text/html": [
              "<pre style=\"white-space:pre;overflow-x:auto;line-height:normal;font-family:Menlo,'DejaVu Sans Mono',consolas,'Courier New',monospace\"><span style=\"font-weight: bold\">Model: \"sequential_8\"</span>\n",
              "</pre>\n"
            ]
          },
          "metadata": {}
        },
        {
          "output_type": "display_data",
          "data": {
            "text/plain": [
              "┏━━━━━━━━━━━━━━━━━━━━━━━━━━━━━━━━━━━━━━┳━━━━━━━━━━━━━━━━━━━━━━━━━━━━━┳━━━━━━━━━━━━━━━━━┓\n",
              "┃\u001b[1m \u001b[0m\u001b[1mLayer (type)                        \u001b[0m\u001b[1m \u001b[0m┃\u001b[1m \u001b[0m\u001b[1mOutput Shape               \u001b[0m\u001b[1m \u001b[0m┃\u001b[1m \u001b[0m\u001b[1m        Param #\u001b[0m\u001b[1m \u001b[0m┃\n",
              "┡━━━━━━━━━━━━━━━━━━━━━━━━━━━━━━━━━━━━━━╇━━━━━━━━━━━━━━━━━━━━━━━━━━━━━╇━━━━━━━━━━━━━━━━━┩\n",
              "│ embedding_8 (\u001b[38;5;33mEmbedding\u001b[0m)              │ ?                           │     \u001b[38;5;34m0\u001b[0m (unbuilt) │\n",
              "├──────────────────────────────────────┼─────────────────────────────┼─────────────────┤\n",
              "│ bidirectional_4 (\u001b[38;5;33mBidirectional\u001b[0m)      │ ?                           │     \u001b[38;5;34m0\u001b[0m (unbuilt) │\n",
              "├──────────────────────────────────────┼─────────────────────────────┼─────────────────┤\n",
              "│ dense_21 (\u001b[38;5;33mDense\u001b[0m)                     │ ?                           │     \u001b[38;5;34m0\u001b[0m (unbuilt) │\n",
              "├──────────────────────────────────────┼─────────────────────────────┼─────────────────┤\n",
              "│ dropout_13 (\u001b[38;5;33mDropout\u001b[0m)                 │ ?                           │     \u001b[38;5;34m0\u001b[0m (unbuilt) │\n",
              "├──────────────────────────────────────┼─────────────────────────────┼─────────────────┤\n",
              "│ dense_22 (\u001b[38;5;33mDense\u001b[0m)                     │ ?                           │     \u001b[38;5;34m0\u001b[0m (unbuilt) │\n",
              "└──────────────────────────────────────┴─────────────────────────────┴─────────────────┘\n"
            ],
            "text/html": [
              "<pre style=\"white-space:pre;overflow-x:auto;line-height:normal;font-family:Menlo,'DejaVu Sans Mono',consolas,'Courier New',monospace\">┏━━━━━━━━━━━━━━━━━━━━━━━━━━━━━━━━━━━━━━┳━━━━━━━━━━━━━━━━━━━━━━━━━━━━━┳━━━━━━━━━━━━━━━━━┓\n",
              "┃<span style=\"font-weight: bold\"> Layer (type)                         </span>┃<span style=\"font-weight: bold\"> Output Shape                </span>┃<span style=\"font-weight: bold\">         Param # </span>┃\n",
              "┡━━━━━━━━━━━━━━━━━━━━━━━━━━━━━━━━━━━━━━╇━━━━━━━━━━━━━━━━━━━━━━━━━━━━━╇━━━━━━━━━━━━━━━━━┩\n",
              "│ embedding_8 (<span style=\"color: #0087ff; text-decoration-color: #0087ff\">Embedding</span>)              │ ?                           │     <span style=\"color: #00af00; text-decoration-color: #00af00\">0</span> (unbuilt) │\n",
              "├──────────────────────────────────────┼─────────────────────────────┼─────────────────┤\n",
              "│ bidirectional_4 (<span style=\"color: #0087ff; text-decoration-color: #0087ff\">Bidirectional</span>)      │ ?                           │     <span style=\"color: #00af00; text-decoration-color: #00af00\">0</span> (unbuilt) │\n",
              "├──────────────────────────────────────┼─────────────────────────────┼─────────────────┤\n",
              "│ dense_21 (<span style=\"color: #0087ff; text-decoration-color: #0087ff\">Dense</span>)                     │ ?                           │     <span style=\"color: #00af00; text-decoration-color: #00af00\">0</span> (unbuilt) │\n",
              "├──────────────────────────────────────┼─────────────────────────────┼─────────────────┤\n",
              "│ dropout_13 (<span style=\"color: #0087ff; text-decoration-color: #0087ff\">Dropout</span>)                 │ ?                           │     <span style=\"color: #00af00; text-decoration-color: #00af00\">0</span> (unbuilt) │\n",
              "├──────────────────────────────────────┼─────────────────────────────┼─────────────────┤\n",
              "│ dense_22 (<span style=\"color: #0087ff; text-decoration-color: #0087ff\">Dense</span>)                     │ ?                           │     <span style=\"color: #00af00; text-decoration-color: #00af00\">0</span> (unbuilt) │\n",
              "└──────────────────────────────────────┴─────────────────────────────┴─────────────────┘\n",
              "</pre>\n"
            ]
          },
          "metadata": {}
        },
        {
          "output_type": "display_data",
          "data": {
            "text/plain": [
              "\u001b[1m Total params: \u001b[0m\u001b[38;5;34m0\u001b[0m (0.00 B)\n"
            ],
            "text/html": [
              "<pre style=\"white-space:pre;overflow-x:auto;line-height:normal;font-family:Menlo,'DejaVu Sans Mono',consolas,'Courier New',monospace\"><span style=\"font-weight: bold\"> Total params: </span><span style=\"color: #00af00; text-decoration-color: #00af00\">0</span> (0.00 B)\n",
              "</pre>\n"
            ]
          },
          "metadata": {}
        },
        {
          "output_type": "display_data",
          "data": {
            "text/plain": [
              "\u001b[1m Trainable params: \u001b[0m\u001b[38;5;34m0\u001b[0m (0.00 B)\n"
            ],
            "text/html": [
              "<pre style=\"white-space:pre;overflow-x:auto;line-height:normal;font-family:Menlo,'DejaVu Sans Mono',consolas,'Courier New',monospace\"><span style=\"font-weight: bold\"> Trainable params: </span><span style=\"color: #00af00; text-decoration-color: #00af00\">0</span> (0.00 B)\n",
              "</pre>\n"
            ]
          },
          "metadata": {}
        },
        {
          "output_type": "display_data",
          "data": {
            "text/plain": [
              "\u001b[1m Non-trainable params: \u001b[0m\u001b[38;5;34m0\u001b[0m (0.00 B)\n"
            ],
            "text/html": [
              "<pre style=\"white-space:pre;overflow-x:auto;line-height:normal;font-family:Menlo,'DejaVu Sans Mono',consolas,'Courier New',monospace\"><span style=\"font-weight: bold\"> Non-trainable params: </span><span style=\"color: #00af00; text-decoration-color: #00af00\">0</span> (0.00 B)\n",
              "</pre>\n"
            ]
          },
          "metadata": {}
        }
      ]
    },
    {
      "cell_type": "markdown",
      "source": [
        "- bilstm_model.compile(...)\n",
        "- Эта строка крайне важна, так как она настраивает модель для процесса обучения. Представьте ее как установку правил и целей для того, как модель будет учиться.\n",
        "- optimizer= tf.keras.optimizers.Adam(learning_rate=0.0001):\n",
        "  - optimizer: Это определяет алгоритм, используемый для корректировки внутренних параметров модели (весов) во время обучения для минимизации ошибок. Здесь используется оптимизатор Adam, популярный выбор в глубоком обучении, известный своей эффективностью.\n",
        "  - learning_rate: Этот гиперпараметр управляет размером шага, который оптимизатор делает при обновлении весов модели. Меньшая скорость обучения (например, 0.0001) может привести к более медленному, но потенциально более стабильному обучению.\n",
        "\n",
        "- loss= tf.keras.losses.SparseCategoricalCrossentropy():\n",
        "  - loss: Эта функция количественно определяет разницу между предсказаниями модели и фактическими целевыми значениями (в данном случае метками авторов). SparseCategoricalCrossentropy подходит для задач многоклассовой классификации, где целевые метки являются целыми числами (например, числовые метки авторов, которые создали ранее).\n",
        "- metrics=['accuracy']:\n",
        "  - metrics: Они используются для оценки производительности модели во время обучения. Здесь используется accuracy (точность), которая измеряет процент правильно классифицированных примеров.\n",
        "\n",
        "- bilstm_model.summary()\n",
        "  - Эта строка печатает краткий обзор архитектуры модели.\n",
        "  - Она показывает слои, их выходные формы и количество обучаемых параметров в каждом слое. Эта сводка помогает понять структуру и сложность  модели."
      ],
      "metadata": {
        "id": "3B2fwHqr4QQP"
      }
    },
    {
      "cell_type": "markdown",
      "source": [
        "### Train the Bi-LSTM model"
      ],
      "metadata": {
        "id": "9y6rqZxGpXHV"
      }
    },
    {
      "cell_type": "code",
      "source": [
        "# Convert author names to numerical labels using the fitted encoder\n",
        "train_labels = label_encoder.transform(train_data['author'])\n",
        "val_labels = label_encoder.transform(val_data['author'])\n",
        "\n",
        "num_batch = 64\n",
        "\n",
        "# Update train_dataset and val_dataset to include labels\n",
        "train_dataset_bilstm = tf.data.Dataset.from_tensor_slices(({\n",
        "    'input_ids': train_inputs['input_ids'],\n",
        "    'attention_mask': train_inputs['attention_mask']\n",
        "}, train_labels))  # Include labels in the dataset\n",
        "\n",
        "val_dataset_bilstm = tf.data.Dataset.from_tensor_slices(({\n",
        "    'input_ids': val_inputs['input_ids'],\n",
        "    'attention_mask': val_inputs['attention_mask']\n",
        "}, val_labels))  # Include labels in the dataset\n",
        "\n",
        "# Function to extract input_ids and labels\n",
        "def map_func(inputs, labels):\n",
        "    return inputs['input_ids'], labels\n",
        "\n",
        "validation_data = tf.data.Dataset.from_tensor_slices(\n",
        "    ({'input_ids': val_inputs['input_ids']}, val_labels)\n",
        ").map(map_func).batch(num_batch) # Apply batching to the validation set\n",
        "\n",
        "# Use this processed 'validation_data' in the 'fit' method\n",
        "# Add a try-except block to catch potential errors during training\n",
        "try:\n",
        "    history_bilstm = bilstm_model.fit(\n",
        "        train_dataset_bilstm.map(map_func).batch(num_batch),  # Use batching for better performance\n",
        "        validation_data=validation_data,  # Use the processed validation data\n",
        "        epochs=20\n",
        "    )\n",
        "except Exception as e:\n",
        "    print(f\"An error occurred during training: {e}\")\n",
        "    # Add more debugging or error handling here if needed"
      ],
      "metadata": {
        "colab": {
          "base_uri": "https://localhost:8080/"
        },
        "id": "7yYFp_MnBUlM",
        "outputId": "11310f2d-0e40-485e-b428-c525f35e151b"
      },
      "execution_count": 154,
      "outputs": [
        {
          "output_type": "stream",
          "name": "stdout",
          "text": [
            "Epoch 1/20\n",
            "\u001b[1m2/2\u001b[0m \u001b[32m━━━━━━━━━━━━━━━━━━━━\u001b[0m\u001b[37m\u001b[0m \u001b[1m12s\u001b[0m 2s/step - accuracy: 0.2842 - loss: 4.7912 - val_accuracy: 0.2500 - val_loss: 4.7679\n",
            "Epoch 2/20\n",
            "\u001b[1m2/2\u001b[0m \u001b[32m━━━━━━━━━━━━━━━━━━━━\u001b[0m\u001b[37m\u001b[0m \u001b[1m5s\u001b[0m 1s/step - accuracy: 0.3449 - loss: 4.7657 - val_accuracy: 0.2500 - val_loss: 4.7457\n",
            "Epoch 3/20\n",
            "\u001b[1m2/2\u001b[0m \u001b[32m━━━━━━━━━━━━━━━━━━━━\u001b[0m\u001b[37m\u001b[0m \u001b[1m4s\u001b[0m 2s/step - accuracy: 0.3206 - loss: 4.7429 - val_accuracy: 0.2500 - val_loss: 4.7234\n",
            "Epoch 4/20\n",
            "\u001b[1m2/2\u001b[0m \u001b[32m━━━━━━━━━━━━━━━━━━━━\u001b[0m\u001b[37m\u001b[0m \u001b[1m5s\u001b[0m 1s/step - accuracy: 0.4523 - loss: 4.7165 - val_accuracy: 0.2500 - val_loss: 4.7013\n",
            "Epoch 5/20\n",
            "\u001b[1m2/2\u001b[0m \u001b[32m━━━━━━━━━━━━━━━━━━━━\u001b[0m\u001b[37m\u001b[0m \u001b[1m4s\u001b[0m 1s/step - accuracy: 0.4887 - loss: 4.6916 - val_accuracy: 0.3333 - val_loss: 4.6793\n",
            "Epoch 6/20\n",
            "\u001b[1m2/2\u001b[0m \u001b[32m━━━━━━━━━━━━━━━━━━━━\u001b[0m\u001b[37m\u001b[0m \u001b[1m5s\u001b[0m 1s/step - accuracy: 0.5026 - loss: 4.6691 - val_accuracy: 0.2500 - val_loss: 4.6573\n",
            "Epoch 7/20\n",
            "\u001b[1m2/2\u001b[0m \u001b[32m━━━━━━━━━━━━━━━━━━━━\u001b[0m\u001b[37m\u001b[0m \u001b[1m6s\u001b[0m 1s/step - accuracy: 0.5026 - loss: 4.6442 - val_accuracy: 0.2500 - val_loss: 4.6354\n",
            "Epoch 8/20\n",
            "\u001b[1m2/2\u001b[0m \u001b[32m━━━━━━━━━━━━━━━━━━━━\u001b[0m\u001b[37m\u001b[0m \u001b[1m4s\u001b[0m 1s/step - accuracy: 0.4869 - loss: 4.6193 - val_accuracy: 0.2500 - val_loss: 4.6137\n",
            "Epoch 9/20\n",
            "\u001b[1m2/2\u001b[0m \u001b[32m━━━━━━━━━━━━━━━━━━━━\u001b[0m\u001b[37m\u001b[0m \u001b[1m5s\u001b[0m 1s/step - accuracy: 0.6256 - loss: 4.5965 - val_accuracy: 0.3333 - val_loss: 4.5920\n",
            "Epoch 10/20\n",
            "\u001b[1m2/2\u001b[0m \u001b[32m━━━━━━━━━━━━━━━━━━━━\u001b[0m\u001b[37m\u001b[0m \u001b[1m6s\u001b[0m 1s/step - accuracy: 0.4748 - loss: 4.5741 - val_accuracy: 0.3333 - val_loss: 4.5705\n",
            "Epoch 11/20\n",
            "\u001b[1m2/2\u001b[0m \u001b[32m━━━━━━━━━━━━━━━━━━━━\u001b[0m\u001b[37m\u001b[0m \u001b[1m3s\u001b[0m 1s/step - accuracy: 0.4748 - loss: 4.5525 - val_accuracy: 0.3333 - val_loss: 4.5493\n",
            "Epoch 12/20\n",
            "\u001b[1m2/2\u001b[0m \u001b[32m━━━━━━━━━━━━━━━━━━━━\u001b[0m\u001b[37m\u001b[0m \u001b[1m5s\u001b[0m 1s/step - accuracy: 0.5008 - loss: 4.5269 - val_accuracy: 0.3333 - val_loss: 4.5281\n",
            "Epoch 13/20\n",
            "\u001b[1m2/2\u001b[0m \u001b[32m━━━━━━━━━━━━━━━━━━━━\u001b[0m\u001b[37m\u001b[0m \u001b[1m5s\u001b[0m 2s/step - accuracy: 0.5199 - loss: 4.5033 - val_accuracy: 0.3333 - val_loss: 4.5071\n",
            "Epoch 14/20\n",
            "\u001b[1m2/2\u001b[0m \u001b[32m━━━━━━━━━━━━━━━━━━━━\u001b[0m\u001b[37m\u001b[0m \u001b[1m3s\u001b[0m 1s/step - accuracy: 0.5060 - loss: 4.4796 - val_accuracy: 0.3333 - val_loss: 4.4863\n",
            "Epoch 15/20\n",
            "\u001b[1m2/2\u001b[0m \u001b[32m━━━━━━━━━━━━━━━━━━━━\u001b[0m\u001b[37m\u001b[0m \u001b[1m5s\u001b[0m 1s/step - accuracy: 0.5199 - loss: 4.4562 - val_accuracy: 0.3333 - val_loss: 4.4656\n",
            "Epoch 16/20\n",
            "\u001b[1m2/2\u001b[0m \u001b[32m━━━━━━━━━━━━━━━━━━━━\u001b[0m\u001b[37m\u001b[0m \u001b[1m7s\u001b[0m 2s/step - accuracy: 0.5338 - loss: 4.4306 - val_accuracy: 0.2500 - val_loss: 4.4451\n",
            "Epoch 17/20\n",
            "\u001b[1m2/2\u001b[0m \u001b[32m━━━━━━━━━━━━━━━━━━━━\u001b[0m\u001b[37m\u001b[0m \u001b[1m3s\u001b[0m 1s/step - accuracy: 0.5199 - loss: 4.4098 - val_accuracy: 0.2500 - val_loss: 4.4248\n",
            "Epoch 18/20\n",
            "\u001b[1m2/2\u001b[0m \u001b[32m━━━━━━━━━━━━━━━━━━━━\u001b[0m\u001b[37m\u001b[0m \u001b[1m3s\u001b[0m 1s/step - accuracy: 0.5338 - loss: 4.3846 - val_accuracy: 0.2500 - val_loss: 4.4047\n",
            "Epoch 19/20\n",
            "\u001b[1m2/2\u001b[0m \u001b[32m━━━━━━━━━━━━━━━━━━━━\u001b[0m\u001b[37m\u001b[0m \u001b[1m6s\u001b[0m 2s/step - accuracy: 0.5615 - loss: 4.3615 - val_accuracy: 0.2500 - val_loss: 4.3848\n",
            "Epoch 20/20\n",
            "\u001b[1m2/2\u001b[0m \u001b[32m━━━━━━━━━━━━━━━━━━━━\u001b[0m\u001b[37m\u001b[0m \u001b[1m5s\u001b[0m 1s/step - accuracy: 0.5008 - loss: 4.3378 - val_accuracy: 0.2500 - val_loss: 4.3652\n"
          ]
        }
      ]
    },
    {
      "cell_type": "markdown",
      "source": [
        "### Evaluate the model"
      ],
      "metadata": {
        "id": "f916wNO7scJ1"
      }
    },
    {
      "cell_type": "code",
      "source": [
        "# Step 1: Evaluate the BiLSTM model\n",
        "try:\n",
        "    loss, accuracy = bilstm_model.evaluate(validation_data)\n",
        "    print(f\"Validation Loss: {val_loss:.4f}\")\n",
        "    print(f\"Validation Accuracy: {val_accuracy:.4f}\")\n",
        "except Exception as e:\n",
        "    print(f\"An error occurred during evaluation: {e}\")\n"
      ],
      "metadata": {
        "colab": {
          "base_uri": "https://localhost:8080/"
        },
        "id": "64pTq_q3ppee",
        "outputId": "9a262d2c-a70e-4e5d-9a71-9be64bd709cd"
      },
      "execution_count": 51,
      "outputs": [
        {
          "output_type": "stream",
          "name": "stdout",
          "text": [
            "\u001b[1m1/1\u001b[0m \u001b[32m━━━━━━━━━━━━━━━━━━━━\u001b[0m\u001b[37m\u001b[0m \u001b[1m0s\u001b[0m 178ms/step - accuracy: 0.3636 - loss: 4.3321\n",
            "An error occurred during evaluation: name 'val_loss' is not defined\n"
          ]
        }
      ]
    },
    {
      "cell_type": "code",
      "source": [
        "import matplotlib.pyplot as plt\n",
        "\n",
        "# Step 2: Plot Training and Validation Loss\n",
        "def plot_training_history(history):\n",
        "    plt.figure(figsize=(12, 6))\n",
        "\n",
        "    # Loss\n",
        "    plt.subplot(1, 2, 1)\n",
        "    plt.plot(history.history['loss'], label='Train Loss', )\n",
        "    plt.plot(history.history['val_loss'], label='Validation Loss', )\n",
        "    plt.title('Loss Over Epochs')\n",
        "    plt.xlabel('Epochs')\n",
        "    plt.ylabel('Loss')\n",
        "    plt.legend()\n",
        "    plt.grid()\n",
        "\n",
        "    # Accuracy\n",
        "    plt.subplot(1, 2, 2)\n",
        "    plt.plot(history.history['accuracy'], label='Train Accuracy', )\n",
        "    plt.plot(history.history['val_accuracy'], label='Validation Accuracy', )\n",
        "    plt.title('Accuracy Over Epochs')\n",
        "    plt.xlabel('Epochs')\n",
        "    plt.ylabel('Accuracy')\n",
        "    plt.legend()\n",
        "    plt.grid()\n",
        "\n",
        "    plt.tight_layout()\n",
        "    plt.show()\n",
        "\n",
        "# Plot the training history\n",
        "plot_training_history(history_bilstm)\n"
      ],
      "metadata": {
        "colab": {
          "base_uri": "https://localhost:8080/",
          "height": 606
        },
        "id": "cjImQsYABQ9H",
        "outputId": "abcc0728-ef9c-48f7-ad0a-ffe0157327b3"
      },
      "execution_count": 155,
      "outputs": [
        {
          "output_type": "display_data",
          "data": {
            "text/plain": [
              "<Figure size 1200x600 with 2 Axes>"
            ],
            "image/png": "[encoded data removed]"
          },
          "metadata": {}
        }
      ]
    },
    {
      "cell_type": "markdown",
      "source": [
        "### Model saved bilstm_model.h5"
      ],
      "metadata": {
        "id": "bWK80RzPW3DM"
      }
    },
    {
      "cell_type": "code",
      "source": [
        "# Save the model using the TensorFlow SavedModel format\n",
        "bilstm_model.save('bilstm_model.h5')  # Add .keras extension for the native Keras format\n",
        "print(\"\\nModel training complete and saved using SavedModel format!\")\n",
        "\n",
        "# # THIS IS HOW TO LOAD THE SAVED MODEL OF BERT\n",
        "\n",
        "# # Load the saved model\n",
        "# loaded_model = tf.keras.models.load_model('bert_text_classifier.keras')"
      ],
      "metadata": {
        "colab": {
          "base_uri": "https://localhost:8080/"
        },
        "id": "Lv_fHYG_W2f3",
        "outputId": "78f7a946-110d-4b02-ea7c-ea2afe465e32"
      },
      "execution_count": 53,
      "outputs": [
        {
          "output_type": "stream",
          "name": "stderr",
          "text": [
            "WARNING:absl:You are saving your model as an HDF5 file via `model.save()` or `keras.saving.save_model(model)`. This file format is considered legacy. We recommend using instead the native Keras format, e.g. `model.save('my_model.keras')` or `keras.saving.save_model(model, 'my_model.keras')`. \n"
          ]
        },
        {
          "output_type": "stream",
          "name": "stdout",
          "text": [
            "\n",
            "Model training complete and saved using SavedModel format!\n"
          ]
        }
      ]
    },
    {
      "cell_type": "markdown",
      "source": [
        "#========================================================================"
      ],
      "metadata": {
        "id": "ZS3U1OMHLo2Z"
      }
    },
    {
      "cell_type": "markdown",
      "source": [
        "# Predicting"
      ],
      "metadata": {
        "id": "wgO1F6r8OM7a"
      }
    },
    {
      "cell_type": "code",
      "source": [
        "# ==========================      BERT    ===========================\n",
        "def predict_authorship_bert(model_bert, tokenizer, label_encoder, text_fragment, max_seq_len=128): # Change max_seq_len to 128 to match model input\n",
        "    # Tokenisasi teks\n",
        "    tokens = tokenizer(text_fragment, padding='max_length', truncation=True, max_length=max_seq_len, return_tensors=\"np\")\n",
        "\n",
        "    # Ambil input_ids and attention_mask\n",
        "    input_ids = tokens['input_ids']\n",
        "    attention_mask = tokens['attention_mask']\n",
        "\n",
        "    # Lakukan prediksi, passing both input_ids and attention_mask\n",
        "    predictions = model_bert.predict({'input_ids': input_ids, 'attention_mask': attention_mask})\n",
        "\n",
        "    # Ambil label dengan probabilitas tertinggi\n",
        "    predicted_label = np.argmax(predictions, axis=1)\n",
        "\n",
        "    # Konversi kembali ke nama penulis\n",
        "    author_name = label_encoder.inverse_transform(predicted_label)\n",
        "\n",
        "    return author_name[0]\n",
        "\n",
        "# ==========================      LSTM     ===========================\n",
        "def predict_authorship_lstm(stacked_lstm_model, tokenizer, label_encoder, text_fragment, max_seq_len=128): # Change max_seq_len to 128 to match model input\n",
        "    # Tokenisasi teks\n",
        "    tokens = tokenizer(text_fragment, padding='max_length', truncation=True, max_length=max_seq_len, return_tensors=\"np\")\n",
        "\n",
        "    # Ambil input_ids and attention_mask\n",
        "    input_ids = tokens['input_ids']\n",
        "    attention_mask = tokens['attention_mask']\n",
        "\n",
        "    # Lakukan prediksi, passing both input_ids and attention_mask\n",
        "    predictions = stacked_lstm_model.predict({'input_ids': input_ids, 'attention_mask': attention_mask})\n",
        "\n",
        "    # Ambil label dengan probabilitas tertinggi\n",
        "    predicted_label = np.argmax(predictions, axis=1)\n",
        "\n",
        "    # Konversi kembali ke nama penulis\n",
        "    author_name = label_encoder.inverse_transform(predicted_label)\n",
        "\n",
        "    return author_name[0]\n",
        "\n",
        "# ==========================      Bi - LSTM    ===========================\n",
        "def predict_authorship_bilstm(bilstm_model, tokenizer, label_encoder, text_fragment, max_seq_len=128): # Change max_seq_len to 128 to match model input\n",
        "    # Tokenisasi teks\n",
        "    tokens = tokenizer(text_fragment, padding='max_length', truncation=True, max_length=max_seq_len, return_tensors=\"np\")\n",
        "\n",
        "    # Ambil input_ids and attention_mask\n",
        "    input_ids = tokens['input_ids']\n",
        "    attention_mask = tokens['attention_mask']\n",
        "\n",
        "    # Lakukan prediksi, passing both input_ids and attention_mask\n",
        "    predictions = bilstm_model.predict({'input_ids': input_ids, 'attention_mask': attention_mask})\n",
        "\n",
        "    # Ambil label dengan probabilitas tertinggi\n",
        "    predicted_label = np.argmax(predictions, axis=1)\n",
        "\n",
        "    # Konversi kembali ke nama penulis\n",
        "    author_name = label_encoder.inverse_transform(predicted_label)\n",
        "\n",
        "    return author_name[0]\n",
        "# Contoh penggunaan\n",
        "# model = ['model_bert', 'stacked_lstm_model', 'bilstm_model']\n",
        "model1 = model_bert\n",
        "model2 = stacked_lstm_model\n",
        "model3 = bilstm_model\n",
        "\n",
        "# Есенин С.А.\n",
        "text_fragment = \"Вы помните,\\nВы всё, конечно, помните,\\nКак я стоял,\\nПриблизившись к стене,\\nВзволнованно ходили вы по комнате\\nИ что-то резкое\\nВ лицо бросали мне.\"\n",
        "\n",
        "predicted_author1 = predict_authorship_bert(model_bert, tokenizer, label_encoder, text_fragment) # Call predict_authorship with model1\n",
        "predicted_author2 = predict_authorship_lstm(stacked_lstm_model, tokenizer, label_encoder, text_fragment) # Call predict_authorship with model1\n",
        "predicted_author3 = predict_authorship_bilstm(bilstm_model, tokenizer, label_encoder, text_fragment) # Call predict_authorship with model1\n",
        "print(f\"Model BERT Predicted author: {predicted_author1}\")\n",
        "print(f\"Model LSTM Predicted author: {predicted_author2}\")\n",
        "print(f\"Model Bi-LSTM Predicted author: {predicted_author3}\")\n",
        "\n",
        "# print(model[0])"
      ],
      "metadata": {
        "colab": {
          "base_uri": "https://localhost:8080/"
        },
        "id": "EDuyQdTwldYu",
        "outputId": "64e5b576-ae69-4704-e002-dfa28b6a651d"
      },
      "execution_count": 203,
      "outputs": [
        {
          "output_type": "stream",
          "name": "stdout",
          "text": [
            "\u001b[1m1/1\u001b[0m \u001b[32m━━━━━━━━━━━━━━━━━━━━\u001b[0m\u001b[37m\u001b[0m \u001b[1m1s\u001b[0m 811ms/step\n",
            "\u001b[1m1/1\u001b[0m \u001b[32m━━━━━━━━━━━━━━━━━━━━\u001b[0m\u001b[37m\u001b[0m \u001b[1m0s\u001b[0m 114ms/step\n",
            "\u001b[1m1/1\u001b[0m \u001b[32m━━━━━━━━━━━━━━━━━━━━\u001b[0m\u001b[37m\u001b[0m \u001b[1m0s\u001b[0m 121ms/step\n",
            "Model BERT Predicted author: Есенин С.А.\n",
            "Model LSTM Predicted author: Есенин С.А.\n",
            "Model Bi-LSTM Predicted author: Некрасов Н.А.\n"
          ]
        }
      ]
    }
  ]
}